{
  "nbformat": 4,
  "nbformat_minor": 0,
  "metadata": {
    "colab": {
      "provenance": [],
      "authorship_tag": "ABX9TyOG0v1Ca2TC3wew3sQxXmDi",
      "include_colab_link": true
    },
    "kernelspec": {
      "name": "python3",
      "display_name": "Python 3"
    },
    "language_info": {
      "name": "python"
    }
  },
  "cells": [
    {
      "cell_type": "markdown",
      "metadata": {
        "id": "view-in-github",
        "colab_type": "text"
      },
      "source": [
        "<a href=\"https://colab.research.google.com/github/WJuniorF/Entregas_POO/blob/main/POO_Actividad3.ipynb\" target=\"_parent\"><img src=\"https://colab.research.google.com/assets/colab-badge.svg\" alt=\"Open In Colab\"/></a>"
      ]
    },
    {
      "cell_type": "markdown",
      "source": [
        "## Actividad de participación 3: taller conceptos POO\n"
      ],
      "metadata": {
        "id": "iYNkR4KncJ8w"
      }
    },
    {
      "cell_type": "markdown",
      "source": [
        "1. Cree una clase Vehículo que contenga los atributos de instancia velocidad_maxima y kilometraje.\n"
      ],
      "metadata": {
        "id": "08DFEBwWcPaz"
      }
    },
    {
      "cell_type": "code",
      "execution_count": 1,
      "metadata": {
        "id": "D2a1IIARb9Pf"
      },
      "outputs": [],
      "source": [
        "class Vehiculo:\n",
        "   def __init__(self,velmax,kilometraje):\n",
        "    self.velmax=velmax\n",
        "    self.kilometraje=kilometraje\n",
        "    return"
      ]
    },
    {
      "cell_type": "code",
      "source": [
        "micarro=Vehiculo(30,50)"
      ],
      "metadata": {
        "id": "J4RIRnYrcEQv"
      },
      "execution_count": 2,
      "outputs": []
    },
    {
      "cell_type": "markdown",
      "source": [
        "2. Cree una clase Punto que represente un punto en el plano cartesiano.\n"
      ],
      "metadata": {
        "id": "6Yki4IfEcVF0"
      }
    },
    {
      "cell_type": "code",
      "source": [
        "import math\n",
        "\n",
        "class Punto:\n",
        "  def __init__(self,x,y):\n",
        "    self.x=x\n",
        "    self.y=y\n",
        "    return\n",
        "# Un método mostrar que imprima por consola las coordenadas del punto\n",
        "  def imprimir(self):\n",
        "    print(\"Las coordenadas del punto son:\",self.x,\",\",self.y,)\n",
        "    return\n",
        "# Un método mover que cambie las coordenadas del punto\n",
        "  def mover(self,a,b):\n",
        "    self.a=a+self.x\n",
        "    self.b=b+self.y\n",
        "    print(\"Las nuevas coordenadas del punto son:\",self.a,self.b)\n",
        "    return\n",
        "# Un método calcular_distancia que calcule la distancia de la instancia actual con otro punto.\n",
        "  def Calcular_Distancia(self,pxb,pyb):\n",
        "    self.pxb=pxb\n",
        "    self.pyb=pyb\n",
        "    self.distancia=math.sqrt((self.x-self.pxb)**2+(self.y-self.pyb)**2)\n",
        "    print(self.distancia)\n",
        "    return"
      ],
      "metadata": {
        "id": "CYLlvi-fcHBK"
      },
      "execution_count": 3,
      "outputs": []
    },
    {
      "cell_type": "code",
      "source": [
        "miPunto=Punto(4,5)"
      ],
      "metadata": {
        "id": "0Wu8WoZ_ckTV"
      },
      "execution_count": 4,
      "outputs": []
    },
    {
      "cell_type": "markdown",
      "source": [
        "3. A la clase del punto anterior, defínale los siguientes métodos:\n",
        "- Un método mostrar que imprima por consola las coordenadas del punto\n"
      ],
      "metadata": {
        "id": "s91LiuB_ghNA"
      }
    },
    {
      "cell_type": "code",
      "source": [
        "miPunto.imprimir()"
      ],
      "metadata": {
        "colab": {
          "base_uri": "https://localhost:8080/"
        },
        "id": "471wWv7MhPGV",
        "outputId": "2bde799f-7263-4b85-e0f3-e80af2f194f8"
      },
      "execution_count": 5,
      "outputs": [
        {
          "output_type": "stream",
          "name": "stdout",
          "text": [
            "Las coordenadas del punto son: 4 , 5\n"
          ]
        }
      ]
    },
    {
      "cell_type": "markdown",
      "source": [
        "- Un método mover que cambie las coordenadas del punto\n"
      ],
      "metadata": {
        "id": "JJlXihc5m_ED"
      }
    },
    {
      "cell_type": "code",
      "source": [
        "miPunto.mover(3,5)\n"
      ],
      "metadata": {
        "colab": {
          "base_uri": "https://localhost:8080/"
        },
        "id": "bad9H_t7iMMb",
        "outputId": "021becfb-a73e-475f-efa0-18c8ed335ed5"
      },
      "execution_count": 6,
      "outputs": [
        {
          "output_type": "stream",
          "name": "stdout",
          "text": [
            "Las nuevas coordenadas del punto son: 7 10\n"
          ]
        }
      ]
    },
    {
      "cell_type": "markdown",
      "source": [
        "- Un método calcular_distancia que calcule la distancia de la instancia actual con otro punto."
      ],
      "metadata": {
        "id": "uQ1F3VTlnBgM"
      }
    },
    {
      "cell_type": "code",
      "source": [
        "miPunto.Calcular_Distancia(-4,6)"
      ],
      "metadata": {
        "colab": {
          "base_uri": "https://localhost:8080/"
        },
        "id": "GlgGcLjHiVO1",
        "outputId": "7877930d-fa22-4d37-92ee-8a2ed6b10af2"
      },
      "execution_count": 7,
      "outputs": [
        {
          "output_type": "stream",
          "name": "stdout",
          "text": [
            "8.06225774829855\n"
          ]
        }
      ]
    },
    {
      "cell_type": "markdown",
      "source": [
        "4. Cree una clase Rectángulo la cual contiene dos atributos de instancia que representan los puntos que definen sus esquinas. Agregue métodos a la clase Rectángulo para calcular su perímetro, calcular su área e indicar si el rectángulo es un cuadrado."
      ],
      "metadata": {
        "id": "KifKWNJ8rwV6"
      }
    },
    {
      "cell_type": "code",
      "source": [
        "class Rectangulo:\n",
        "  def __init__(self,x1,y1,x2,y2):\n",
        "    self.x1=(x1)\n",
        "    self.x2=(x2)\n",
        "    self.y1=(y1)\n",
        "    self.y2=(y2)\n",
        "\n",
        "    print(\"Punto 1:\",(self.x1),(self.y1),\"Punto 2:\",(self.x2),(self.y2))\n",
        "    return\n",
        "\n",
        "  def completo(self):\n",
        "    print(\"Punto 1:\",self.x1,self.y1,\"Punto 2:\",self.x2,self.y2,\"Punto 3:\",self.x1,self.y2,\"Punto 4:\",self.x2,self.y1)\n",
        "    return\n",
        "\n",
        "  def perimetro(self):\n",
        "    self.base=math.sqrt((self.x1-self.x1)**2+(self.y1-self.y2)**2)\n",
        "    self.altura=math.sqrt((self.x1-self.x2)**2+(self.y1-self.y1)**2)\n",
        "    print(\"El perimetro es:\",self.base*self.altura*2)\n",
        "    return\n",
        "\n",
        "  def area(self):\n",
        "    self.area=self.base*self.altura\n",
        "    print(\"El area en unidades cuadradas es:\",self.area)\n",
        "    return\n",
        "\n",
        "  def prueba(self):\n",
        "    if self.base==self.altura:\n",
        "      print(\"El poligono es un cuadrado\")\n",
        "    else:\n",
        "      print(\"EL poligono es un rectángulo\")"
      ],
      "metadata": {
        "id": "nMjuJ5GEpTmL"
      },
      "execution_count": 8,
      "outputs": []
    },
    {
      "cell_type": "code",
      "source": [
        "mirectangulo=Rectangulo(-1,1,-6,6)\n"
      ],
      "metadata": {
        "id": "30CC9wkvpdkk",
        "outputId": "f92587c7-94b9-4616-850f-4194de5b743e",
        "colab": {
          "base_uri": "https://localhost:8080/"
        }
      },
      "execution_count": 9,
      "outputs": [
        {
          "output_type": "stream",
          "name": "stdout",
          "text": [
            "Punto 1: -1 1 Punto 2: -6 6\n"
          ]
        }
      ]
    },
    {
      "cell_type": "code",
      "source": [
        "mirectangulo.completo()"
      ],
      "metadata": {
        "id": "dHyzgJEhpsiS",
        "outputId": "5c656f8f-7786-47ea-8a8f-21c4b202eea0",
        "colab": {
          "base_uri": "https://localhost:8080/"
        }
      },
      "execution_count": 10,
      "outputs": [
        {
          "output_type": "stream",
          "name": "stdout",
          "text": [
            "Punto 1: -1 1 Punto 2: -6 6 Punto 3: -1 6 Punto 4: -6 1\n"
          ]
        }
      ]
    },
    {
      "cell_type": "code",
      "source": [
        "mirectangulo.perimetro()"
      ],
      "metadata": {
        "id": "WBwRizHC3rz5",
        "outputId": "b39bc063-248c-4dc9-92d1-ae533711c10f",
        "colab": {
          "base_uri": "https://localhost:8080/"
        }
      },
      "execution_count": 11,
      "outputs": [
        {
          "output_type": "stream",
          "name": "stdout",
          "text": [
            "El perimetro es: 50.0\n"
          ]
        }
      ]
    },
    {
      "cell_type": "code",
      "source": [
        "mirectangulo.area()"
      ],
      "metadata": {
        "id": "qECvKDq-47ks",
        "colab": {
          "base_uri": "https://localhost:8080/"
        },
        "outputId": "45cca1a1-1e07-4a71-fa83-1d17d243d067"
      },
      "execution_count": 12,
      "outputs": [
        {
          "output_type": "stream",
          "name": "stdout",
          "text": [
            "El area en unidades cuadradas es: 25.0\n"
          ]
        }
      ]
    },
    {
      "cell_type": "code",
      "source": [
        "mirectangulo.prueba()"
      ],
      "metadata": {
        "colab": {
          "base_uri": "https://localhost:8080/"
        },
        "id": "JANz9D9M8AIm",
        "outputId": "ae461d0b-4562-4f1d-9726-4811c9c85e9a"
      },
      "execution_count": 13,
      "outputs": [
        {
          "output_type": "stream",
          "name": "stdout",
          "text": [
            "El poligono es un cuadrado\n"
          ]
        }
      ]
    },
    {
      "cell_type": "markdown",
      "source": [
        "5. Cree una clase Circulo que tenga las propiedades centro y radio, las cuales se inicializan con parámetros en el constructor. Defina métodos en la clase para calcular el área, el perímetro e indicar si un punto pertenece al círculo o no."
      ],
      "metadata": {
        "id": "tSM481ge9VZY"
      }
    },
    {
      "cell_type": "code",
      "source": [
        "class Circulo:\n",
        "  def __init__(self,x1,y1,r):\n",
        "    self.x1=x1 #coordenadas del centro\n",
        "    self.y1=y1  #coordenadas del centro\n",
        "    self.r=r\n",
        "    return\n",
        "\n",
        "  def areac(self):\n",
        "    print(\"Área del circulo es:\",math.pi*self.r**2)\n",
        "    return\n",
        "\n",
        "  def perimetroc(self):\n",
        "    print(\"Perimetro del circulo es:\",2*math.pi*self.r)\n",
        "    return\n",
        "\n",
        "  # Punto cualquiera en el espacio, prueba punto dentro o fuera del circulo\n",
        "  def prueba(self,x,y):\n",
        "    self.x=x\n",
        "    self.y=y\n",
        "    if math.sqrt((self.x-self.x1)**2+(self.y-self.y1)**2) > math.sqrt(self.r):\n",
        "      print(\"El punto está fuera del circulo\")\n",
        "    else:\n",
        "      print(\"El punto está dentro del circulo\")\n",
        "    return\n"
      ],
      "metadata": {
        "id": "yROQZWp88knO"
      },
      "execution_count": 14,
      "outputs": []
    },
    {
      "cell_type": "code",
      "source": [
        "micirculo=Circulo(0,0,4)"
      ],
      "metadata": {
        "id": "qv4aE58c96CB"
      },
      "execution_count": 15,
      "outputs": []
    },
    {
      "cell_type": "code",
      "source": [
        "micirculo.areac()"
      ],
      "metadata": {
        "colab": {
          "base_uri": "https://localhost:8080/"
        },
        "id": "IRL4KkpWCP4s",
        "outputId": "713b0551-1707-44a0-99f4-861e08aa60e0"
      },
      "execution_count": 16,
      "outputs": [
        {
          "output_type": "stream",
          "name": "stdout",
          "text": [
            "Área del circulo es: 50.26548245743669\n"
          ]
        }
      ]
    },
    {
      "cell_type": "code",
      "source": [
        "micirculo.perimetroc()"
      ],
      "metadata": {
        "colab": {
          "base_uri": "https://localhost:8080/"
        },
        "id": "h6dfvg3PCtCL",
        "outputId": "d57be3ab-6e53-49cf-f02a-1cd0d81598a3"
      },
      "execution_count": 17,
      "outputs": [
        {
          "output_type": "stream",
          "name": "stdout",
          "text": [
            "Perimetro del circulo es: 25.132741228718345\n"
          ]
        }
      ]
    },
    {
      "cell_type": "code",
      "source": [
        "micirculo.prueba(3,3)"
      ],
      "metadata": {
        "id": "pRmJ8kDuDMZ8",
        "outputId": "58a90a22-dedd-4e23-befb-456388ea48ed",
        "colab": {
          "base_uri": "https://localhost:8080/"
        }
      },
      "execution_count": 18,
      "outputs": [
        {
          "output_type": "stream",
          "name": "stdout",
          "text": [
            "El punto está fuera del circulo\n"
          ]
        }
      ]
    },
    {
      "cell_type": "markdown",
      "source": [
        "6. Cree una clase Carta que contenga dos propiedades valor y pinta, las cuales son asignadas solo al momento de la construcción del objeto (se pasan como parámetros en el constructor). Defina 4 constantes que representan los nombres de las 4 pintas que puede tener una carta.\n"
      ],
      "metadata": {
        "id": "LMviC5Cdr2YS"
      }
    },
    {
      "cell_type": "code",
      "source": [],
      "metadata": {
        "id": "H3SUvE2tnTmR"
      },
      "execution_count": 18,
      "outputs": []
    },
    {
      "cell_type": "markdown",
      "source": [
        "7. Cree una clase CuentaBancaria que contenga los siguientes atributos: numero_cuenta, propietarios y balance. Los tres atributos se deben inicializar en el constructor con valores recibidos como parámetros."
      ],
      "metadata": {
        "id": "Foyt-7jtwrFA"
      }
    },
    {
      "cell_type": "code",
      "source": [
        "class CuentaBancaria:\n",
        "  def __init__(self, numero_cuenta,propietario,balance):\n",
        "    self.numero_cuenta=numero_cuenta\n",
        "    self.propietario=propietario\n",
        "    self.balance=balance\n",
        "    return\n",
        "\n",
        "  def depositar(self,):\n",
        "      self.balance=0\n",
        "      self.balance+=int(input(\"Ingrese dinero a depositar:\" ))\n",
        "      print(\"Dinero depositado:\",\"$\",self.balance)\n",
        "      return\n",
        "\n",
        "  def retirar(self,retiro):\n",
        "      self.retiro=retiro\n",
        "      self.balance-=self.retiro\n",
        "      print(\"Dinero retirado:\",\"$\",self.retiro)\n",
        "      print(\"Nuevo saldo:\",\"$\",self.balance)\n",
        "      return\n",
        "\n",
        "  def aplicar_cuota_manejo(self):\n",
        "      self.cuota=0.02\n",
        "      self.balance-=self.balance*self.cuota\n",
        "      print(\"Balance de la cuenta:\",\"$\",self.balance)\n",
        "\n",
        "  def mostrar_detalles(self):\n",
        "      print(\"Propietario de la cuenta:\", self.propietario)\n",
        "      print(\"Número de cuenta:\", self.numero_cuenta)\n",
        "      print(\"Cuota de manejo aplicada:\", self.cuota*100,'%')\n",
        "      print(\"Balance de cuenta:\", self.balance)\n",
        "\n",
        "\n",
        ""
      ],
      "metadata": {
        "id": "azCJyFj3vt_i"
      },
      "execution_count": 121,
      "outputs": []
    },
    {
      "cell_type": "markdown",
      "source": [
        "8. Para la clase CuentaBancaria, cree un método depositar que maneje las acciones de depósito en la cuenta.\n"
      ],
      "metadata": {
        "id": "aMxkDhqZxyCA"
      }
    },
    {
      "cell_type": "code",
      "source": [
        "micuenta=CuentaBancaria(123,\"Walter\",0)\n"
      ],
      "metadata": {
        "id": "Q-oNmo7-zrUA"
      },
      "execution_count": 122,
      "outputs": []
    },
    {
      "cell_type": "code",
      "source": [
        "micuenta.depositar()"
      ],
      "metadata": {
        "id": "-mFEwN5N0SGT",
        "outputId": "46aa86c1-13ee-4c55-be62-7f01b06c8c67",
        "colab": {
          "base_uri": "https://localhost:8080/"
        }
      },
      "execution_count": 123,
      "outputs": [
        {
          "output_type": "stream",
          "name": "stdout",
          "text": [
            "Ingrese dinero a depositar:1000\n",
            "Dinero depositado: $ 1000\n"
          ]
        }
      ]
    },
    {
      "cell_type": "markdown",
      "source": [
        "9. Para la clase CuentaBancaria, cree un método retirar que maneje las acciones de retiro de la cuenta.\n"
      ],
      "metadata": {
        "id": "35EBrwP85Rta"
      }
    },
    {
      "cell_type": "code",
      "source": [
        "micuenta.retirar(50)"
      ],
      "metadata": {
        "id": "DnGwqmxb0hHV",
        "outputId": "c0051edb-b3b9-41de-d642-56e52f75ce62",
        "colab": {
          "base_uri": "https://localhost:8080/"
        }
      },
      "execution_count": 124,
      "outputs": [
        {
          "output_type": "stream",
          "name": "stdout",
          "text": [
            "Dinero retirado: $ 50\n",
            "Nuevo saldo: $ 950\n"
          ]
        }
      ]
    },
    {
      "cell_type": "markdown",
      "source": [
        "10. Para la clase CuentaBancaria, cree un método aplicar_cuota_manejo que aplique un porcentaje del 2% sobre el balance de la cuenta\n"
      ],
      "metadata": {
        "id": "hwbvjslf9QMX"
      }
    },
    {
      "cell_type": "code",
      "source": [
        "micuenta.aplicar_cuota_manejo()"
      ],
      "metadata": {
        "id": "cqPegH4L6ls0",
        "outputId": "78b0a69e-5800-426e-977a-1758543c8775",
        "colab": {
          "base_uri": "https://localhost:8080/"
        }
      },
      "execution_count": 125,
      "outputs": [
        {
          "output_type": "stream",
          "name": "stdout",
          "text": [
            "Balance de la cuenta: $ 931.0\n"
          ]
        }
      ]
    },
    {
      "cell_type": "markdown",
      "source": [
        "11. Para la clase CuentaBancaria, cree un método mostrar_detalles que imprima por consola los detalles de la cuenta bancaria.\n"
      ],
      "metadata": {
        "id": "-wM41Sjy_9HY"
      }
    },
    {
      "cell_type": "code",
      "source": [
        "micuenta.mostrar_detalles()"
      ],
      "metadata": {
        "id": "DQdRWxj5_dmZ",
        "outputId": "e6905e82-e18a-4340-8115-770e241bc470",
        "colab": {
          "base_uri": "https://localhost:8080/"
        }
      },
      "execution_count": 126,
      "outputs": [
        {
          "output_type": "stream",
          "name": "stdout",
          "text": [
            "Propietario de la cuenta: Walter\n",
            "Número de cuenta: 123\n",
            "Cuota de manejo aplicada: 2.0 %\n",
            "Balance de cuenta: 931.0\n"
          ]
        }
      ]
    },
    {
      "cell_type": "code",
      "source": [],
      "metadata": {
        "id": "cQKiZYIpBqz8"
      },
      "execution_count": null,
      "outputs": []
    }
  ]
}