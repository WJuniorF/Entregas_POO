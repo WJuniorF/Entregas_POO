{
  "nbformat": 4,
  "nbformat_minor": 0,
  "metadata": {
    "colab": {
      "provenance": [],
      "authorship_tag": "ABX9TyPoHU1fZeO6xPBWkVGq6Tom",
      "include_colab_link": true
    },
    "kernelspec": {
      "name": "python3",
      "display_name": "Python 3"
    },
    "language_info": {
      "name": "python"
    }
  },
  "cells": [
    {
      "cell_type": "markdown",
      "metadata": {
        "id": "view-in-github",
        "colab_type": "text"
      },
      "source": [
        "<a href=\"https://colab.research.google.com/github/WJuniorF/Entregas_POO/blob/main/POO_Actividad3.ipynb\" target=\"_parent\"><img src=\"https://colab.research.google.com/assets/colab-badge.svg\" alt=\"Open In Colab\"/></a>"
      ]
    },
    {
      "cell_type": "markdown",
      "source": [
        "## Actividad de participación 3: taller conceptos POO\n"
      ],
      "metadata": {
        "id": "iYNkR4KncJ8w"
      }
    },
    {
      "cell_type": "markdown",
      "source": [
        "1. Cree una clase Vehículo que contenga los atributos de instancia velocidad_maxima y kilometraje.\n"
      ],
      "metadata": {
        "id": "08DFEBwWcPaz"
      }
    },
    {
      "cell_type": "code",
      "execution_count": 1,
      "metadata": {
        "id": "D2a1IIARb9Pf"
      },
      "outputs": [],
      "source": [
        "class Vehiculo:\n",
        "   def __init__(self,velmax,kilometraje):\n",
        "    self.velmax=velmax\n",
        "    self.kilometraje=kilometraje\n",
        "    return"
      ]
    },
    {
      "cell_type": "code",
      "source": [
        "micarro=Vehiculo(30,50)"
      ],
      "metadata": {
        "id": "J4RIRnYrcEQv"
      },
      "execution_count": 2,
      "outputs": []
    },
    {
      "cell_type": "markdown",
      "source": [
        "2. Cree una clase Punto que represente un punto en el plano cartesiano.\n"
      ],
      "metadata": {
        "id": "6Yki4IfEcVF0"
      }
    },
    {
      "cell_type": "code",
      "source": [
        "import math\n",
        "\n",
        "class Punto:\n",
        "  def __init__(self,x,y):\n",
        "    self.x=x\n",
        "    self.y=y\n",
        "    return\n",
        "# Un método mostrar que imprima por consola las coordenadas del punto\n",
        "  def imprimir(self):\n",
        "    print(\"Las coordenadas del punto son:\",self.x,\",\",self.y,)\n",
        "    return\n",
        "# Un método mover que cambie las coordenadas del punto\n",
        "  def mover(self,a,b):\n",
        "    self.a=a+self.x\n",
        "    self.b=b+self.y\n",
        "    print(\"Las nuevas coordenadas del punto son:\",self.a,self.b)\n",
        "    return\n",
        "# Un método calcular_distancia que calcule la distancia de la instancia actual con otro punto.\n",
        "  def Calcular_Distancia(self,pxb,pyb):\n",
        "    self.pxb=pxb\n",
        "    self.pyb=pyb\n",
        "    self.distancia=math.sqrt((self.x-self.pxb)**2+(self.y-self.pyb)**2)\n",
        "    print(self.distancia)\n",
        "    return"
      ],
      "metadata": {
        "id": "CYLlvi-fcHBK"
      },
      "execution_count": 8,
      "outputs": []
    },
    {
      "cell_type": "code",
      "source": [
        "miPunto=Punto(4,5)"
      ],
      "metadata": {
        "id": "0Wu8WoZ_ckTV"
      },
      "execution_count": 9,
      "outputs": []
    },
    {
      "cell_type": "markdown",
      "source": [
        "3. A la clase del punto anterior, defínale los siguientes métodos:\n",
        "- Un método mostrar que imprima por consola las coordenadas del punto\n"
      ],
      "metadata": {
        "id": "s91LiuB_ghNA"
      }
    },
    {
      "cell_type": "code",
      "source": [
        "miPunto.imprimir()"
      ],
      "metadata": {
        "colab": {
          "base_uri": "https://localhost:8080/"
        },
        "id": "471wWv7MhPGV",
        "outputId": "9a668ff5-ba9a-44f9-fd04-b867d0d69c95"
      },
      "execution_count": 10,
      "outputs": [
        {
          "output_type": "stream",
          "name": "stdout",
          "text": [
            "Las coordenadas del punto son: 4 , 5\n"
          ]
        }
      ]
    },
    {
      "cell_type": "markdown",
      "source": [
        "- Un método mover que cambie las coordenadas del punto\n"
      ],
      "metadata": {
        "id": "JJlXihc5m_ED"
      }
    },
    {
      "cell_type": "code",
      "source": [
        "miPunto.mover(3,5)\n"
      ],
      "metadata": {
        "colab": {
          "base_uri": "https://localhost:8080/"
        },
        "id": "bad9H_t7iMMb",
        "outputId": "84ae289e-9c34-47f5-8bf2-f435a4f8aa2d"
      },
      "execution_count": 11,
      "outputs": [
        {
          "output_type": "stream",
          "name": "stdout",
          "text": [
            "Las nuevas coordenadas del punto son: 7 10\n"
          ]
        }
      ]
    },
    {
      "cell_type": "markdown",
      "source": [
        "- Un método calcular_distancia que calcule la distancia de la instancia actual con otro punto."
      ],
      "metadata": {
        "id": "uQ1F3VTlnBgM"
      }
    },
    {
      "cell_type": "code",
      "source": [
        "miPunto.Calcular_Distancia(-4,6)"
      ],
      "metadata": {
        "colab": {
          "base_uri": "https://localhost:8080/"
        },
        "id": "GlgGcLjHiVO1",
        "outputId": "c995ecbb-20b5-48d8-b588-69aa50c1fd84"
      },
      "execution_count": 12,
      "outputs": [
        {
          "output_type": "execute_result",
          "data": {
            "text/plain": [
              "8.06225774829855"
            ]
          },
          "metadata": {},
          "execution_count": 12
        }
      ]
    },
    {
      "cell_type": "markdown",
      "source": [
        "4. Cree una clase Rectángulo la cual contiene dos atributos de instancia que representan los puntos que definen sus esquinas. Agregue métodos a la clase Rectángulo para calcular su perímetro, calcular su área e indicar si el rectángulo es un cuadrado."
      ],
      "metadata": {
        "id": "KifKWNJ8rwV6"
      }
    },
    {
      "cell_type": "code",
      "source": [
        "class Rectangulo:\n",
        "  def __init__(self,):\n",
        "    return"
      ],
      "metadata": {
        "id": "nMjuJ5GEpTmL"
      },
      "execution_count": 7,
      "outputs": []
    }
  ]
}