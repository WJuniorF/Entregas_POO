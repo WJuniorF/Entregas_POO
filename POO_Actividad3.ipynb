{
  "nbformat": 4,
  "nbformat_minor": 0,
  "metadata": {
    "colab": {
      "provenance": [],
      "authorship_tag": "ABX9TyMkbjZmRNVJFqy3jT87i44T",
      "include_colab_link": true
    },
    "kernelspec": {
      "name": "python3",
      "display_name": "Python 3"
    },
    "language_info": {
      "name": "python"
    }
  },
  "cells": [
    {
      "cell_type": "markdown",
      "metadata": {
        "id": "view-in-github",
        "colab_type": "text"
      },
      "source": [
        "<a href=\"https://colab.research.google.com/github/WJuniorF/Entregas_POO/blob/main/POO_Actividad3.ipynb\" target=\"_parent\"><img src=\"https://colab.research.google.com/assets/colab-badge.svg\" alt=\"Open In Colab\"/></a>"
      ]
    },
    {
      "cell_type": "markdown",
      "source": [
        "## Actividad de participación 3: taller conceptos POO\n"
      ],
      "metadata": {
        "id": "iYNkR4KncJ8w"
      }
    },
    {
      "cell_type": "markdown",
      "source": [
        "1. Cree una clase Vehículo que contenga los atributos de instancia velocidad_maxima y kilometraje.\n"
      ],
      "metadata": {
        "id": "08DFEBwWcPaz"
      }
    },
    {
      "cell_type": "code",
      "execution_count": 18,
      "metadata": {
        "id": "D2a1IIARb9Pf"
      },
      "outputs": [],
      "source": [
        "class Vehiculo:\n",
        "   def __init__(self,velmax,kilometraje):\n",
        "    self.velmax=velmax\n",
        "    self.kilometraje=kilometraje\n",
        "    return"
      ]
    },
    {
      "cell_type": "code",
      "source": [
        "micarro=Vehiculo(30,50)"
      ],
      "metadata": {
        "id": "J4RIRnYrcEQv"
      },
      "execution_count": 19,
      "outputs": []
    },
    {
      "cell_type": "markdown",
      "source": [
        "2. Cree una clase Punto que represente un punto en el plano cartesiano.\n"
      ],
      "metadata": {
        "id": "6Yki4IfEcVF0"
      }
    },
    {
      "cell_type": "code",
      "source": [
        "class Punto:\n",
        "  def __init__(self,x,y):\n",
        "    self.x=x\n",
        "    self.y=y\n",
        "    return"
      ],
      "metadata": {
        "id": "CYLlvi-fcHBK"
      },
      "execution_count": 20,
      "outputs": []
    },
    {
      "cell_type": "code",
      "source": [
        "miPunto=Punto(4,5)"
      ],
      "metadata": {
        "id": "0Wu8WoZ_ckTV"
      },
      "execution_count": 21,
      "outputs": []
    },
    {
      "cell_type": "code",
      "source": [],
      "metadata": {
        "id": "Q0schHLddg2e"
      },
      "execution_count": 22,
      "outputs": []
    },
    {
      "cell_type": "markdown",
      "source": [],
      "metadata": {
        "id": "ox4mzGMFcz5z"
      }
    },
    {
      "cell_type": "code",
      "source": [
        "!cd Entregas_POO\n",
        "!git add .\n",
        "!git commit -m \"Actividad adelantada hasta el punto 2\"\n",
        "!git push origin main\n"
      ],
      "metadata": {
        "colab": {
          "base_uri": "https://localhost:8080/"
        },
        "id": "ZCELiKjmcpqe",
        "outputId": "952909d7-134a-403f-bdad-db44ca24f0fa"
      },
      "execution_count": 23,
      "outputs": [
        {
          "output_type": "stream",
          "name": "stdout",
          "text": [
            "/bin/bash: line 1: cd: Entregas_POO: No such file or directory\n",
            "fatal: not a git repository (or any of the parent directories): .git\n",
            "fatal: not a git repository (or any of the parent directories): .git\n",
            "fatal: not a git repository (or any of the parent directories): .git\n"
          ]
        }
      ]
    },
    {
      "cell_type": "code",
      "source": [],
      "metadata": {
        "id": "N8ERiO3Mdp5H"
      },
      "execution_count": null,
      "outputs": []
    }
  ]
}