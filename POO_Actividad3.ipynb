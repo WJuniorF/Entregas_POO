{
  "nbformat": 4,
  "nbformat_minor": 0,
  "metadata": {
    "colab": {
      "provenance": [],
      "authorship_tag": "ABX9TyMrXepNRZOytcPhSBx7mp41",
      "include_colab_link": true
    },
    "kernelspec": {
      "name": "python3",
      "display_name": "Python 3"
    },
    "language_info": {
      "name": "python"
    }
  },
  "cells": [
    {
      "cell_type": "markdown",
      "metadata": {
        "id": "view-in-github",
        "colab_type": "text"
      },
      "source": [
        "<a href=\"https://colab.research.google.com/github/WJuniorF/Entregas_POO/blob/main/POO_Actividad3.ipynb\" target=\"_parent\"><img src=\"https://colab.research.google.com/assets/colab-badge.svg\" alt=\"Open In Colab\"/></a>"
      ]
    },
    {
      "cell_type": "markdown",
      "source": [
        "## Actividad de participación 3: taller conceptos POO\n"
      ],
      "metadata": {
        "id": "iYNkR4KncJ8w"
      }
    },
    {
      "cell_type": "markdown",
      "source": [
        "1. Cree una clase Vehículo que contenga los atributos de instancia velocidad_maxima y kilometraje.\n"
      ],
      "metadata": {
        "id": "08DFEBwWcPaz"
      }
    },
    {
      "cell_type": "code",
      "execution_count": 40,
      "metadata": {
        "id": "D2a1IIARb9Pf"
      },
      "outputs": [],
      "source": [
        "class Vehiculo:\n",
        "   def __init__(self,velmax,kilometraje):\n",
        "    self.velmax=velmax\n",
        "    self.kilometraje=kilometraje\n",
        "    return"
      ]
    },
    {
      "cell_type": "code",
      "source": [
        "micarro=Vehiculo(30,50)"
      ],
      "metadata": {
        "id": "J4RIRnYrcEQv"
      },
      "execution_count": 41,
      "outputs": []
    },
    {
      "cell_type": "markdown",
      "source": [
        "2. Cree una clase Punto que represente un punto en el plano cartesiano.\n"
      ],
      "metadata": {
        "id": "6Yki4IfEcVF0"
      }
    },
    {
      "cell_type": "code",
      "source": [
        "import math\n",
        "\n",
        "class Punto:\n",
        "  def __init__(self,x,y):\n",
        "    self.x=x\n",
        "    self.y=y\n",
        "    return\n",
        "# Un método mostrar que imprima por consola las coordenadas del punto\n",
        "  def imprimir(self):\n",
        "    print(\"Las coordenadas del punto son:\",self.x,\",\",self.y,)\n",
        "    return\n",
        "# Un método mover que cambie las coordenadas del punto\n",
        "  def mover(self,a,b):\n",
        "    self.a=a+self.x\n",
        "    self.b=b+self.y\n",
        "    print(\"Las nuevas coordenadas del punto son:\",self.a,self.b)\n",
        "    return\n",
        "# Un método calcular_distancia que calcule la distancia de la instancia actual con otro punto.\n",
        "  def Calcular_Distancia(self,pxb,pyb):\n",
        "    self.pxb=pxb\n",
        "    self.pyb=pyb\n",
        "    self.distancia=math.sqrt((self.x-self.pxb)**2+(self.y-self.pyb)**2)\n",
        "    print(self.distancia)\n",
        "    return"
      ],
      "metadata": {
        "id": "CYLlvi-fcHBK"
      },
      "execution_count": 42,
      "outputs": []
    },
    {
      "cell_type": "code",
      "source": [
        "miPunto=Punto(4,5)"
      ],
      "metadata": {
        "id": "0Wu8WoZ_ckTV"
      },
      "execution_count": 43,
      "outputs": []
    },
    {
      "cell_type": "markdown",
      "source": [
        "3. A la clase del punto anterior, defínale los siguientes métodos:\n",
        "- Un método mostrar que imprima por consola las coordenadas del punto\n"
      ],
      "metadata": {
        "id": "s91LiuB_ghNA"
      }
    },
    {
      "cell_type": "code",
      "source": [
        "miPunto.imprimir()"
      ],
      "metadata": {
        "colab": {
          "base_uri": "https://localhost:8080/"
        },
        "id": "471wWv7MhPGV",
        "outputId": "6697a38b-26bf-4902-fe8f-1f6ad6ada9fc"
      },
      "execution_count": 44,
      "outputs": [
        {
          "output_type": "stream",
          "name": "stdout",
          "text": [
            "Las coordenadas del punto son: 4 , 5\n"
          ]
        }
      ]
    },
    {
      "cell_type": "markdown",
      "source": [
        "- Un método mover que cambie las coordenadas del punto\n"
      ],
      "metadata": {
        "id": "JJlXihc5m_ED"
      }
    },
    {
      "cell_type": "code",
      "source": [
        "miPunto.mover(3,5)\n"
      ],
      "metadata": {
        "colab": {
          "base_uri": "https://localhost:8080/"
        },
        "id": "bad9H_t7iMMb",
        "outputId": "c5047ef8-8593-487e-9daf-c964e08e7b78"
      },
      "execution_count": 45,
      "outputs": [
        {
          "output_type": "stream",
          "name": "stdout",
          "text": [
            "Las nuevas coordenadas del punto son: 7 10\n"
          ]
        }
      ]
    },
    {
      "cell_type": "markdown",
      "source": [
        "- Un método calcular_distancia que calcule la distancia de la instancia actual con otro punto."
      ],
      "metadata": {
        "id": "uQ1F3VTlnBgM"
      }
    },
    {
      "cell_type": "code",
      "source": [
        "miPunto.Calcular_Distancia(-4,6)"
      ],
      "metadata": {
        "colab": {
          "base_uri": "https://localhost:8080/"
        },
        "id": "GlgGcLjHiVO1",
        "outputId": "bcb7761f-760f-42ff-d844-1a09c94d772d"
      },
      "execution_count": 46,
      "outputs": [
        {
          "output_type": "stream",
          "name": "stdout",
          "text": [
            "8.06225774829855\n"
          ]
        }
      ]
    },
    {
      "cell_type": "markdown",
      "source": [
        "4. Cree una clase Rectángulo la cual contiene dos atributos de instancia que representan los puntos que definen sus esquinas. Agregue métodos a la clase Rectángulo para calcular su perímetro, calcular su área e indicar si el rectángulo es un cuadrado."
      ],
      "metadata": {
        "id": "KifKWNJ8rwV6"
      }
    },
    {
      "cell_type": "code",
      "source": [
        "class Rectangulo:\n",
        "  def __init__(self,x1,y1,x2,y2):\n",
        "    self.x1=(x1)\n",
        "    self.x2=(x2)\n",
        "    self.y1=(y1)\n",
        "    self.y2=(y2)\n",
        "\n",
        "    print(\"Punto 1:\",(self.x1),(self.y1),\"Punto 2:\",(self.x2),(self.y2))\n",
        "    return\n",
        "\n",
        "  def completo(self):\n",
        "    print(\"Punto 1:\",self.x1,self.y1,\"Punto 2:\",self.x2,self.y2,\"Punto 3:\",self.x1,self.y2,\"Punto 4:\",self.x2,self.y1)\n",
        "    return\n",
        "\n",
        "  def perimetro(self):\n",
        "    self.base=math.sqrt((self.x1-self.x1)**2+(self.y1-self.y2)**2)\n",
        "    self.altura=math.sqrt((self.x1-self.x2)**2+(self.y1-self.y1)**2)\n",
        "    print(\"El perimetro es:\",self.base*self.altura*2)\n",
        "    return\n",
        "\n",
        "\n",
        "  #distancia=math.sqrt((self.x-self.pxb)**2+(self.y-self.pyb)**2)"
      ],
      "metadata": {
        "id": "nMjuJ5GEpTmL"
      },
      "execution_count": 113,
      "outputs": []
    },
    {
      "cell_type": "code",
      "source": [
        "mirectangulo=Rectangulo(-1,1,-3,6)\n"
      ],
      "metadata": {
        "id": "30CC9wkvpdkk",
        "outputId": "097f7cda-71f9-44b3-fa76-db0be201fb2f",
        "colab": {
          "base_uri": "https://localhost:8080/"
        }
      },
      "execution_count": 114,
      "outputs": [
        {
          "output_type": "stream",
          "name": "stdout",
          "text": [
            "Punto 1: -1 1 Punto 2: -3 6\n"
          ]
        }
      ]
    },
    {
      "cell_type": "code",
      "source": [
        "mirectangulo.completo()"
      ],
      "metadata": {
        "id": "dHyzgJEhpsiS",
        "outputId": "ef93a34e-c920-4bc3-abc2-596871664c07",
        "colab": {
          "base_uri": "https://localhost:8080/"
        }
      },
      "execution_count": 115,
      "outputs": [
        {
          "output_type": "stream",
          "name": "stdout",
          "text": [
            "Punto 1: -1 1 Punto 2: -3 6 Punto 3: -1 6 Punto 4: -3 1\n"
          ]
        }
      ]
    },
    {
      "cell_type": "code",
      "source": [
        "mirectangulo.perimetro()"
      ],
      "metadata": {
        "id": "WBwRizHC3rz5",
        "outputId": "9e21cd5b-5a83-4f72-aad0-a5106948c578",
        "colab": {
          "base_uri": "https://localhost:8080/"
        }
      },
      "execution_count": 117,
      "outputs": [
        {
          "output_type": "stream",
          "name": "stdout",
          "text": [
            "El perimetro es: 20.0\n"
          ]
        }
      ]
    },
    {
      "cell_type": "code",
      "source": [],
      "metadata": {
        "id": "qECvKDq-47ks"
      },
      "execution_count": null,
      "outputs": []
    }
  ]
}