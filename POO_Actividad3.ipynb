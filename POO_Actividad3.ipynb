{
  "nbformat": 4,
  "nbformat_minor": 0,
  "metadata": {
    "colab": {
      "provenance": [],
      "authorship_tag": "ABX9TyPv2890Ijhxi3JBrT+2fKCv",
      "include_colab_link": true
    },
    "kernelspec": {
      "name": "python3",
      "display_name": "Python 3"
    },
    "language_info": {
      "name": "python"
    }
  },
  "cells": [
    {
      "cell_type": "markdown",
      "metadata": {
        "id": "view-in-github",
        "colab_type": "text"
      },
      "source": [
        "<a href=\"https://colab.research.google.com/github/WJuniorF/Entregas_POO/blob/main/POO_Actividad3.ipynb\" target=\"_parent\"><img src=\"https://colab.research.google.com/assets/colab-badge.svg\" alt=\"Open In Colab\"/></a>"
      ]
    },
    {
      "cell_type": "markdown",
      "source": [
        "## Actividad de participación 3: taller conceptos POO\n"
      ],
      "metadata": {
        "id": "iYNkR4KncJ8w"
      }
    },
    {
      "cell_type": "markdown",
      "source": [
        "1. Cree una clase Vehículo que contenga los atributos de instancia velocidad_maxima y kilometraje.\n"
      ],
      "metadata": {
        "id": "08DFEBwWcPaz"
      }
    },
    {
      "cell_type": "code",
      "execution_count": 118,
      "metadata": {
        "id": "D2a1IIARb9Pf"
      },
      "outputs": [],
      "source": [
        "class Vehiculo:\n",
        "   def __init__(self,velmax,kilometraje):\n",
        "    self.velmax=velmax\n",
        "    self.kilometraje=kilometraje\n",
        "    return"
      ]
    },
    {
      "cell_type": "code",
      "source": [
        "micarro=Vehiculo(30,50)"
      ],
      "metadata": {
        "id": "J4RIRnYrcEQv"
      },
      "execution_count": 119,
      "outputs": []
    },
    {
      "cell_type": "markdown",
      "source": [
        "2. Cree una clase Punto que represente un punto en el plano cartesiano.\n"
      ],
      "metadata": {
        "id": "6Yki4IfEcVF0"
      }
    },
    {
      "cell_type": "code",
      "source": [
        "import math\n",
        "\n",
        "class Punto:\n",
        "  def __init__(self,x,y):\n",
        "    self.x=x\n",
        "    self.y=y\n",
        "    return\n",
        "# Un método mostrar que imprima por consola las coordenadas del punto\n",
        "  def imprimir(self):\n",
        "    print(\"Las coordenadas del punto son:\",self.x,\",\",self.y,)\n",
        "    return\n",
        "# Un método mover que cambie las coordenadas del punto\n",
        "  def mover(self,a,b):\n",
        "    self.a=a+self.x\n",
        "    self.b=b+self.y\n",
        "    print(\"Las nuevas coordenadas del punto son:\",self.a,self.b)\n",
        "    return\n",
        "# Un método calcular_distancia que calcule la distancia de la instancia actual con otro punto.\n",
        "  def Calcular_Distancia(self,pxb,pyb):\n",
        "    self.pxb=pxb\n",
        "    self.pyb=pyb\n",
        "    self.distancia=math.sqrt((self.x-self.pxb)**2+(self.y-self.pyb)**2)\n",
        "    print(self.distancia)\n",
        "    return"
      ],
      "metadata": {
        "id": "CYLlvi-fcHBK"
      },
      "execution_count": 120,
      "outputs": []
    },
    {
      "cell_type": "code",
      "source": [
        "miPunto=Punto(4,5)"
      ],
      "metadata": {
        "id": "0Wu8WoZ_ckTV"
      },
      "execution_count": 121,
      "outputs": []
    },
    {
      "cell_type": "markdown",
      "source": [
        "3. A la clase del punto anterior, defínale los siguientes métodos:\n",
        "- Un método mostrar que imprima por consola las coordenadas del punto\n"
      ],
      "metadata": {
        "id": "s91LiuB_ghNA"
      }
    },
    {
      "cell_type": "code",
      "source": [
        "miPunto.imprimir()"
      ],
      "metadata": {
        "colab": {
          "base_uri": "https://localhost:8080/"
        },
        "id": "471wWv7MhPGV",
        "outputId": "c9f0ea12-2800-4a8b-88a7-7156523ab636"
      },
      "execution_count": 122,
      "outputs": [
        {
          "output_type": "stream",
          "name": "stdout",
          "text": [
            "Las coordenadas del punto son: 4 , 5\n"
          ]
        }
      ]
    },
    {
      "cell_type": "markdown",
      "source": [
        "- Un método mover que cambie las coordenadas del punto\n"
      ],
      "metadata": {
        "id": "JJlXihc5m_ED"
      }
    },
    {
      "cell_type": "code",
      "source": [
        "miPunto.mover(3,5)\n"
      ],
      "metadata": {
        "colab": {
          "base_uri": "https://localhost:8080/"
        },
        "id": "bad9H_t7iMMb",
        "outputId": "7e05ba07-546f-41a2-98a6-7140baf70451"
      },
      "execution_count": 123,
      "outputs": [
        {
          "output_type": "stream",
          "name": "stdout",
          "text": [
            "Las nuevas coordenadas del punto son: 7 10\n"
          ]
        }
      ]
    },
    {
      "cell_type": "markdown",
      "source": [
        "- Un método calcular_distancia que calcule la distancia de la instancia actual con otro punto."
      ],
      "metadata": {
        "id": "uQ1F3VTlnBgM"
      }
    },
    {
      "cell_type": "code",
      "source": [
        "miPunto.Calcular_Distancia(-4,6)"
      ],
      "metadata": {
        "colab": {
          "base_uri": "https://localhost:8080/"
        },
        "id": "GlgGcLjHiVO1",
        "outputId": "bcbc02e7-2845-4327-a4fc-cc44a43e8a82"
      },
      "execution_count": 124,
      "outputs": [
        {
          "output_type": "stream",
          "name": "stdout",
          "text": [
            "8.06225774829855\n"
          ]
        }
      ]
    },
    {
      "cell_type": "markdown",
      "source": [
        "4. Cree una clase Rectángulo la cual contiene dos atributos de instancia que representan los puntos que definen sus esquinas. Agregue métodos a la clase Rectángulo para calcular su perímetro, calcular su área e indicar si el rectángulo es un cuadrado."
      ],
      "metadata": {
        "id": "KifKWNJ8rwV6"
      }
    },
    {
      "cell_type": "code",
      "source": [
        "class Rectangulo:\n",
        "  def __init__(self,x1,y1,x2,y2):\n",
        "    self.x1=(x1)\n",
        "    self.x2=(x2)\n",
        "    self.y1=(y1)\n",
        "    self.y2=(y2)\n",
        "\n",
        "    print(\"Punto 1:\",(self.x1),(self.y1),\"Punto 2:\",(self.x2),(self.y2))\n",
        "    return\n",
        "\n",
        "  def completo(self):\n",
        "    print(\"Punto 1:\",self.x1,self.y1,\"Punto 2:\",self.x2,self.y2,\"Punto 3:\",self.x1,self.y2,\"Punto 4:\",self.x2,self.y1)\n",
        "    return\n",
        "\n",
        "  def perimetro(self):\n",
        "    self.base=math.sqrt((self.x1-self.x1)**2+(self.y1-self.y2)**2)\n",
        "    self.altura=math.sqrt((self.x1-self.x2)**2+(self.y1-self.y1)**2)\n",
        "    print(\"El perimetro es:\",self.base*self.altura*2)\n",
        "    return\n",
        "\n",
        "  def area(self):\n",
        "    self.area=self.base*self.altura\n",
        "    print(\"El area en unidades cuadradas es:\",self.area)\n",
        "    return\n",
        "\n",
        "  def prueba(self):\n",
        "    if self.base==self.altura:\n",
        "      print(\"El poligono es un cuadrado\")\n",
        "    else:\n",
        "      print(\"EL poligono es un rectángulo\")"
      ],
      "metadata": {
        "id": "nMjuJ5GEpTmL"
      },
      "execution_count": 140,
      "outputs": []
    },
    {
      "cell_type": "code",
      "source": [
        "mirectangulo=Rectangulo(-1,1,-6,6)\n"
      ],
      "metadata": {
        "id": "30CC9wkvpdkk",
        "outputId": "dcd2d2db-21db-45e0-cc70-b5f39c8c2cd6",
        "colab": {
          "base_uri": "https://localhost:8080/"
        }
      },
      "execution_count": 146,
      "outputs": [
        {
          "output_type": "stream",
          "name": "stdout",
          "text": [
            "Punto 1: -1 1 Punto 2: -6 6\n"
          ]
        }
      ]
    },
    {
      "cell_type": "code",
      "source": [
        "mirectangulo.completo()"
      ],
      "metadata": {
        "id": "dHyzgJEhpsiS",
        "outputId": "6682235c-b6f8-4ac7-9697-d8cc4538c1b4",
        "colab": {
          "base_uri": "https://localhost:8080/"
        }
      },
      "execution_count": 147,
      "outputs": [
        {
          "output_type": "stream",
          "name": "stdout",
          "text": [
            "Punto 1: -1 1 Punto 2: -6 6 Punto 3: -1 6 Punto 4: -6 1\n"
          ]
        }
      ]
    },
    {
      "cell_type": "code",
      "source": [
        "mirectangulo.perimetro()"
      ],
      "metadata": {
        "id": "WBwRizHC3rz5",
        "outputId": "a31f3d33-9a99-46c2-f7cc-077806205429",
        "colab": {
          "base_uri": "https://localhost:8080/"
        }
      },
      "execution_count": 148,
      "outputs": [
        {
          "output_type": "stream",
          "name": "stdout",
          "text": [
            "El perimetro es: 50.0\n"
          ]
        }
      ]
    },
    {
      "cell_type": "code",
      "source": [
        "mirectangulo.area()"
      ],
      "metadata": {
        "id": "qECvKDq-47ks",
        "colab": {
          "base_uri": "https://localhost:8080/"
        },
        "outputId": "c906c55a-cad0-4c7a-917b-19c8f05c0c25"
      },
      "execution_count": 149,
      "outputs": [
        {
          "output_type": "stream",
          "name": "stdout",
          "text": [
            "El area en unidades cuadradas es: 25.0\n"
          ]
        }
      ]
    },
    {
      "cell_type": "code",
      "source": [
        "mirectangulo.prueba()"
      ],
      "metadata": {
        "colab": {
          "base_uri": "https://localhost:8080/"
        },
        "id": "JANz9D9M8AIm",
        "outputId": "48a556e5-0031-461e-fd1f-56ef5091d44b"
      },
      "execution_count": 150,
      "outputs": [
        {
          "output_type": "stream",
          "name": "stdout",
          "text": [
            "El poligono es un cuadrado\n"
          ]
        }
      ]
    },
    {
      "cell_type": "markdown",
      "source": [
        "5. Cree una clase Circulo que tenga las propiedades centro y radio, las cuales se inicializan con parámetros en el constructor. Defina métodos en la clase para calcular el área, el perímetro e indicar si un punto pertenece al círculo o no."
      ],
      "metadata": {
        "id": "tSM481ge9VZY"
      }
    },
    {
      "cell_type": "code",
      "source": [
        "class Circulo:\n",
        "  def __init__(self,x1,y1,r):\n",
        "    self.x1=x1\n",
        "    self.y1=y1\n",
        "    self.r=r\n",
        "    return\n",
        "\n",
        "  def areac(self):\n",
        "    print(\"Área del circulo es:\",math.pi*self.r**2)\n",
        "    return\n",
        "\n",
        "  def perimetroc(self):\n",
        "    print(\"Perimetro del circulo es:\",2*math.pi*self.r)\n",
        "    return\n",
        "\n",
        "  def prueba(self,p):\n",
        "    self.p=**2+y1**2=\n",
        ""
      ],
      "metadata": {
        "id": "yROQZWp88knO"
      },
      "execution_count": 165,
      "outputs": []
    },
    {
      "cell_type": "code",
      "source": [
        "micirculo=Circulo(3,3,5)"
      ],
      "metadata": {
        "id": "qv4aE58c96CB"
      },
      "execution_count": 166,
      "outputs": []
    },
    {
      "cell_type": "code",
      "source": [
        "micirculo.areac()"
      ],
      "metadata": {
        "colab": {
          "base_uri": "https://localhost:8080/"
        },
        "id": "IRL4KkpWCP4s",
        "outputId": "e4b7e3bc-51ed-458c-e7c3-8ebea1fa55bd"
      },
      "execution_count": 167,
      "outputs": [
        {
          "output_type": "stream",
          "name": "stdout",
          "text": [
            "Área del circulo es: 78.53981633974483\n"
          ]
        }
      ]
    },
    {
      "cell_type": "code",
      "source": [
        "micirculo.perimetroc()"
      ],
      "metadata": {
        "colab": {
          "base_uri": "https://localhost:8080/"
        },
        "id": "h6dfvg3PCtCL",
        "outputId": "e1bd357d-e665-44b5-8ece-b96dae13a9ca"
      },
      "execution_count": 168,
      "outputs": [
        {
          "output_type": "stream",
          "name": "stdout",
          "text": [
            "Perimetro del circulo es: 31.41592653589793\n"
          ]
        }
      ]
    },
    {
      "cell_type": "code",
      "source": [],
      "metadata": {
        "id": "pRmJ8kDuDMZ8"
      },
      "execution_count": null,
      "outputs": []
    }
  ]
}