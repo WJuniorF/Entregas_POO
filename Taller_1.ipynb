{
  "nbformat": 4,
  "nbformat_minor": 0,
  "metadata": {
    "colab": {
      "provenance": [],
      "authorship_tag": "ABX9TyNNJ/+WpOTpyowax3yBo2d2",
      "include_colab_link": true
    },
    "kernelspec": {
      "name": "python3",
      "display_name": "Python 3"
    },
    "language_info": {
      "name": "python"
    }
  },
  "cells": [
    {
      "cell_type": "markdown",
      "metadata": {
        "id": "view-in-github",
        "colab_type": "text"
      },
      "source": [
        "<a href=\"https://colab.research.google.com/github/WJuniorF/Entregas_POO/blob/main/Taller_1.ipynb\" target=\"_parent\"><img src=\"https://colab.research.google.com/assets/colab-badge.svg\" alt=\"Open In Colab\"/></a>"
      ]
    },
    {
      "cell_type": "code",
      "execution_count": 1,
      "metadata": {
        "colab": {
          "base_uri": "https://localhost:8080/"
        },
        "id": "uCF4TmdLdAA1",
        "outputId": "f8517b65-6c16-4f0a-ba68-4e834a34f99d"
      },
      "outputs": [
        {
          "output_type": "stream",
          "name": "stdout",
          "text": [
            "Ingrese su nombre:Walter\n",
            "Ingrese su edad:30\n",
            "Su nombre es Walter y tiene 30 años\n"
          ]
        }
      ],
      "source": [
        "#Taller_1_Repaso\n",
        "\n",
        "#1. Crear un programa que pida al usuario ingresar su nombre y edad y los imprima en pantalla.\n",
        "\n",
        "nombre=str(input(\"Ingrese su nombre:\" ))\n",
        "edad=int(input(\"Ingrese su edad:\" ))\n",
        "\n",
        "print(f'Su nombre es {nombre} y tiene {edad} años')"
      ]
    },
    {
      "cell_type": "code",
      "source": [
        "#2. Escribir una función que calcule el área de un círculo dado su radio.\n",
        "\n",
        "def a_circulo(r):\n",
        "  pi=3.1416\n",
        "  area=round(pi*r**2,2)\n",
        "\n",
        "  return  f\"El area del circulo es {area} unidades cuadradas\"\n",
        "\n",
        "a_circulo(4)"
      ],
      "metadata": {
        "colab": {
          "base_uri": "https://localhost:8080/",
          "height": 36
        },
        "id": "UddM8dzBdKin",
        "outputId": "1d536a39-d3a2-4a99-c426-91c35a916c2f"
      },
      "execution_count": 2,
      "outputs": [
        {
          "output_type": "execute_result",
          "data": {
            "text/plain": [
              "'El area del circulo es 50.27 unidades cuadradas'"
            ],
            "application/vnd.google.colaboratory.intrinsic+json": {
              "type": "string"
            }
          },
          "metadata": {},
          "execution_count": 2
        }
      ]
    },
    {
      "cell_type": "code",
      "source": [
        "#3. Crear un programa que genere una lista de números aleatorios y los imprima en pantalla.\n",
        "import random\n",
        "\n",
        "a=random.randrange(0,100,1)\n",
        "print (f\"Este es un número aleatorio:\", a)\n",
        "\n"
      ],
      "metadata": {
        "colab": {
          "base_uri": "https://localhost:8080/"
        },
        "id": "yDH5yTBBeMYJ",
        "outputId": "1410eae1-f0e5-45b2-ffa5-51b9fe3248b9"
      },
      "execution_count": 3,
      "outputs": [
        {
          "output_type": "stream",
          "name": "stdout",
          "text": [
            "Este es un número aleatorio: 68\n"
          ]
        }
      ]
    },
    {
      "cell_type": "code",
      "source": [
        "#4. Escribir un programa que determine si un número dado es par o impar.\n",
        "\n",
        "num=int(input(\"Ingrese un número: \" ))\n",
        "\n",
        "if num%2==0:\n",
        "  print(f\"El número {num} es par\")\n",
        "else:\n",
        "  print(f\"El número {num} es impar\")\n",
        "\n"
      ],
      "metadata": {
        "colab": {
          "base_uri": "https://localhost:8080/"
        },
        "id": "ln6xbszFgQUb",
        "outputId": "8e79f20f-7a8b-4e13-9159-46aebea0cea7"
      },
      "execution_count": 4,
      "outputs": [
        {
          "output_type": "stream",
          "name": "stdout",
          "text": [
            "Ingrese un número: 6\n",
            "El número 6 es par\n"
          ]
        }
      ]
    },
    {
      "cell_type": "code",
      "source": [
        "#5. Crear una función que convierta grados Fahrenheit a grados Celsius.\n",
        "\n",
        "def convert_temp (f:float):\n",
        "  a=round((f-32)*5/9,1)\n",
        "  return (f\"{f} grados Fahrenheit equivalen a {a} grados Celsius\")\n",
        "\n"
      ],
      "metadata": {
        "id": "GjGjt73Vh3gW"
      },
      "execution_count": 5,
      "outputs": []
    },
    {
      "cell_type": "code",
      "source": [
        "convert_temp(45)"
      ],
      "metadata": {
        "colab": {
          "base_uri": "https://localhost:8080/",
          "height": 36
        },
        "id": "IZ5gD1wAipJB",
        "outputId": "583d1a74-5397-4a53-de88-a92d6c3db628"
      },
      "execution_count": 6,
      "outputs": [
        {
          "output_type": "execute_result",
          "data": {
            "text/plain": [
              "'45 grados Fahrenheit equivalen a 7.2 grados Celsius'"
            ],
            "application/vnd.google.colaboratory.intrinsic+json": {
              "type": "string"
            }
          },
          "metadata": {},
          "execution_count": 6
        }
      ]
    },
    {
      "cell_type": "code",
      "source": [
        "#6. Crear un programa que calcule la suma de los números en una lista dada.\n",
        "\n",
        "lista=[1,2,3,4,5]\n",
        "\n",
        "acumulador=0\n",
        "\n",
        "for i in lista:\n",
        "  acumulador+=i\n",
        "\n",
        "print(acumulador)"
      ],
      "metadata": {
        "colab": {
          "base_uri": "https://localhost:8080/"
        },
        "id": "rY7V55YPjXQu",
        "outputId": "567561b0-b3ab-4d07-ada9-deb26737571d"
      },
      "execution_count": 20,
      "outputs": [
        {
          "output_type": "stream",
          "name": "stdout",
          "text": [
            "15\n"
          ]
        }
      ]
    },
    {
      "cell_type": "code",
      "source": [
        "#7. Escribir un programa que encuentre el número más grande y el más pequeño en una lista dada.\n",
        "\n",
        "print (f\"El numero más pequeño de la lista es {min(lista)} y el número mas grande es {max(lista)}\")"
      ],
      "metadata": {
        "colab": {
          "base_uri": "https://localhost:8080/"
        },
        "id": "XZcRY67fjXSb",
        "outputId": "d213feba-bb5e-46cb-969b-ed5328c36a4f"
      },
      "execution_count": 8,
      "outputs": [
        {
          "output_type": "stream",
          "name": "stdout",
          "text": [
            "El numero más pequeño de la lista es 1 y el número mas grande es 5\n"
          ]
        }
      ]
    },
    {
      "cell_type": "code",
      "source": [
        "#8. Crear una función que invierta el orden de los elementos en una lista dada.\n",
        "def invertir(p:list):\n",
        "  a=[]\n",
        "  for i in reversed(p):\n",
        "    a+=[i]\n",
        "  print(f\"La lista invertida es {a}\")\n",
        "  return\n"
      ],
      "metadata": {
        "id": "oSKddzxmjXV0"
      },
      "execution_count": 36,
      "outputs": []
    },
    {
      "cell_type": "code",
      "source": [
        "invertir(lista)"
      ],
      "metadata": {
        "colab": {
          "base_uri": "https://localhost:8080/"
        },
        "id": "mxCMQ07ljXXK",
        "outputId": "4eb8c46d-b4b9-42f1-9778-d1f8f4be091f"
      },
      "execution_count": 37,
      "outputs": [
        {
          "output_type": "stream",
          "name": "stdout",
          "text": [
            "La lista invertida es [5, 4, 3, 2, 1]\n"
          ]
        }
      ]
    },
    {
      "cell_type": "code",
      "source": [
        "#9. Crear un programa que genere una matriz de números y la imprima en pantalla.\n",
        "\n",
        "import numpy as np\n"
      ],
      "metadata": {
        "id": "ZwIVCQQPjXat"
      },
      "execution_count": 50,
      "outputs": []
    },
    {
      "cell_type": "code",
      "source": [
        "rng = np.random.default_rng()\n",
        "b=rng.integers(10, size=(5,5))\n",
        "print(b)\n"
      ],
      "metadata": {
        "colab": {
          "base_uri": "https://localhost:8080/"
        },
        "id": "1Owv7OFhjXdn",
        "outputId": "67aa688b-a353-456c-e013-aba831537bdf"
      },
      "execution_count": 53,
      "outputs": [
        {
          "output_type": "stream",
          "name": "stdout",
          "text": [
            "[[9 8 5 4 6]\n",
            " [1 3 1 9 0]\n",
            " [7 9 7 1 4]\n",
            " [7 2 0 5 7]\n",
            " [9 3 3 2 3]]\n"
          ]
        }
      ]
    },
    {
      "cell_type": "code",
      "source": [
        "#10. Escribir una función que calcule el factorial de un número dado.\n",
        "\n",
        "\n",
        "num_1=3\n",
        "lista_num=[] #numeros que se guardaran\n",
        "acumulador_fac=0\n",
        "\n",
        "for i in range(1,num_1+1):\n",
        "  lista_num+=[i]\n",
        "print(f\"Números guardados {lista_num}\")\n",
        "\n",
        "len_lista_num=len(lista_num)\n",
        "print(len_lista_num)\n",
        "\n"
      ],
      "metadata": {
        "colab": {
          "base_uri": "https://localhost:8080/"
        },
        "id": "9kpZn0P8sZ8Z",
        "outputId": "6e3c0aaa-c35e-49b9-98b5-c36c1578e68e"
      },
      "execution_count": 73,
      "outputs": [
        {
          "output_type": "stream",
          "name": "stdout",
          "text": [
            "Números guardados [1, 2, 3]\n",
            "3\n"
          ]
        }
      ]
    },
    {
      "cell_type": "code",
      "source": [
        "acumulador_fac=0\n",
        "for i in lista_num:\n",
        "  acumulador_fac+=i*i+1\n",
        "print(acumulador_fac)"
      ],
      "metadata": {
        "colab": {
          "base_uri": "https://localhost:8080/"
        },
        "id": "0YqzExfFzlka",
        "outputId": "e872e784-a204-4e14-add0-3a91f7967559"
      },
      "execution_count": 74,
      "outputs": [
        {
          "output_type": "stream",
          "name": "stdout",
          "text": [
            "6\n"
          ]
        }
      ]
    },
    {
      "cell_type": "code",
      "source": [
        "#11. Crear un programa que genere una lista de números pares entre 1 y 100.\n",
        "par_lista=[]\n",
        "\n",
        "for i in range(1,101):\n",
        "  if i%2==0:\n",
        "    par_lista+=[i]"
      ],
      "metadata": {
        "id": "ueDo17sqsZ-C"
      },
      "execution_count": 75,
      "outputs": []
    },
    {
      "cell_type": "code",
      "source": [
        "print(par_lista)"
      ],
      "metadata": {
        "colab": {
          "base_uri": "https://localhost:8080/"
        },
        "id": "0OKsKeTOsaBe",
        "outputId": "944d5cf2-1839-412f-ff97-4ad49ef43f9f"
      },
      "execution_count": 76,
      "outputs": [
        {
          "output_type": "stream",
          "name": "stdout",
          "text": [
            "[2, 4, 6, 8, 10, 12, 14, 16, 18, 20, 22, 24, 26, 28, 30, 32, 34, 36, 38, 40, 42, 44, 46, 48, 50, 52, 54, 56, 58, 60, 62, 64, 66, 68, 70, 72, 74, 76, 78, 80, 82, 84, 86, 88, 90, 92, 94, 96, 98, 100]\n"
          ]
        }
      ]
    },
    {
      "cell_type": "code",
      "source": [
        "#12. Crear un programa que imprima los números del 1 al 10 utilizando un ciclo for.\n",
        "\n",
        "for i in range(1,11):\n",
        "  print(i)"
      ],
      "metadata": {
        "colab": {
          "base_uri": "https://localhost:8080/"
        },
        "id": "mo3uIjq_saEY",
        "outputId": "547b95fd-c950-4be3-9118-d5ffb5d52216"
      },
      "execution_count": 77,
      "outputs": [
        {
          "output_type": "stream",
          "name": "stdout",
          "text": [
            "1\n",
            "2\n",
            "3\n",
            "4\n",
            "5\n",
            "6\n",
            "7\n",
            "8\n",
            "9\n",
            "10\n"
          ]
        }
      ]
    },
    {
      "cell_type": "code",
      "source": [
        "#13. Crear un programa que pida al usuario ingresar dos números y calcule su suma, resta, multiplicación y división.\n",
        "\n",
        "def operaciones ():\n",
        "  a=int(input(\"Ingresa un número:\" ))\n",
        "  b=int(input(\"Ingresa un número:\" ))\n",
        "\n",
        "  suma=a+b\n",
        "  resta=a-b\n",
        "  multi=a*b\n",
        "  div=round((a/b),2)\n",
        "  return print(f\"La suma de {a} y {b} es igual a {suma}\\nLa resta de {a} y {b} es igual a {resta}\\nLa multiplicación de {a} y {b} es igual a {multi}\\nLa división de {a} y {b} es igual a {div}\")\n"
      ],
      "metadata": {
        "id": "Zj_hG4Aa3TkX"
      },
      "execution_count": 87,
      "outputs": []
    },
    {
      "cell_type": "code",
      "source": [
        "operaciones()"
      ],
      "metadata": {
        "colab": {
          "base_uri": "https://localhost:8080/"
        },
        "id": "zkQ5lEU53TmE",
        "outputId": "4ed2bbf9-37ba-4602-b60b-d08896f59c9e"
      },
      "execution_count": 88,
      "outputs": [
        {
          "output_type": "stream",
          "name": "stdout",
          "text": [
            "Ingresa un número:5\n",
            "Ingresa un número:4\n",
            "La suma de 5 y 4 es igual a 9\n",
            "La resta de 5 y 4 es igual a 1\n",
            "La multiplicación de 5 y 4 es igual a 20\n",
            "La división de 5 y 4 es igual a 1.25\n"
          ]
        }
      ]
    },
    {
      "cell_type": "code",
      "source": [
        "#14. Escribir una función que calcule la media aritmética de una lista de números.\n",
        "\n",
        "\n",
        "def media (a:list):\n",
        "  suma=0\n",
        "\n",
        "  for i in a:\n",
        "    suma+=i\n",
        "\n",
        "  media_a=round((suma/len(a)),2)\n",
        "  return f\"La media aritmética de la lista es {media_a}\""
      ],
      "metadata": {
        "id": "Czzu0cXM3TpT"
      },
      "execution_count": 100,
      "outputs": []
    },
    {
      "cell_type": "code",
      "source": [
        "\n",
        "lista_numeros=[5,4,3,2,4,5,7]\n",
        "\n",
        "media(lista_numeros)"
      ],
      "metadata": {
        "colab": {
          "base_uri": "https://localhost:8080/",
          "height": 36
        },
        "id": "0tg72ouV3TsJ",
        "outputId": "854c3745-d660-410f-dfb3-98a748d6aa66"
      },
      "execution_count": 101,
      "outputs": [
        {
          "output_type": "execute_result",
          "data": {
            "text/plain": [
              "'La media aritmética de la lista es 4.29'"
            ],
            "application/vnd.google.colaboratory.intrinsic+json": {
              "type": "string"
            }
          },
          "metadata": {},
          "execution_count": 101
        }
      ]
    },
    {
      "cell_type": "code",
      "source": [
        "\n",
        "#15. Crear un programa que pida al usuario ingresar una cadena de texto y determine si es un palíndromo o no.\n",
        "\n",
        "def test (a:str):\n",
        "  b=list(a)\n",
        "  c=reversed(b)\n",
        "\n",
        "  print(c)\n",
        "\n",
        "  #if a==reversed(a):\n",
        "   # print()\n",
        "  return"
      ],
      "metadata": {
        "id": "UFb7RYCr7iB5"
      },
      "execution_count": 124,
      "outputs": []
    },
    {
      "cell_type": "code",
      "source": [
        "test('letra')"
      ],
      "metadata": {
        "colab": {
          "base_uri": "https://localhost:8080/"
        },
        "id": "d3VLM3eP9o93",
        "outputId": "f7b043a0-6288-4e10-f10e-9e7b9a187693"
      },
      "execution_count": 125,
      "outputs": [
        {
          "output_type": "stream",
          "name": "stdout",
          "text": [
            "<list_reverseiterator object at 0x7873873d0820>\n"
          ]
        }
      ]
    },
    {
      "cell_type": "code",
      "source": [
        "palabra_='Allí ves a Sevilla'\n",
        "\n",
        "\n",
        "y=palabra_.strip(' ')\n",
        "\n",
        "list(y)\n",
        "\n",
        "\n",
        "\n",
        "\n",
        "'''\n",
        "inver_mm=[]\n",
        "for i in reversed(mm):\n",
        "  inver_mm+=[i]\n",
        "\n",
        "print(mm)\n",
        "print(inver_mm)\n",
        "\n",
        "if mm==inver_mm:\n",
        "    print(\"Es un palíndromo\")\n",
        "else:\n",
        "    print(f\"{mm}No es un palíndromo\")\n",
        "'''\n",
        "\n",
        "\n"
      ],
      "metadata": {
        "colab": {
          "base_uri": "https://localhost:8080/",
          "height": 54
        },
        "id": "V_14PB4k94xl",
        "outputId": "7f3a34c9-8a43-4f2c-857e-26c2f3e8f1d4"
      },
      "execution_count": 151,
      "outputs": [
        {
          "output_type": "execute_result",
          "data": {
            "text/plain": [
              "'\\ninver_mm=[]\\nfor i in reversed(mm):\\n  inver_mm+=[i]\\n\\nprint(mm)\\nprint(inver_mm)\\n\\nif mm==inver_mm:\\n    print(\"Es un palíndromo\")\\nelse:\\n    print(f\"{mm}No es un palíndromo\")\\n'"
            ],
            "application/vnd.google.colaboratory.intrinsic+json": {
              "type": "string"
            }
          },
          "metadata": {},
          "execution_count": 151
        }
      ]
    }
  ]
}