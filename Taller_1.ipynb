{
  "nbformat": 4,
  "nbformat_minor": 0,
  "metadata": {
    "colab": {
      "provenance": [],
      "authorship_tag": "ABX9TyOyh3RrK9amPlwMy19XiztX",
      "include_colab_link": true
    },
    "kernelspec": {
      "name": "python3",
      "display_name": "Python 3"
    },
    "language_info": {
      "name": "python"
    }
  },
  "cells": [
    {
      "cell_type": "markdown",
      "metadata": {
        "id": "view-in-github",
        "colab_type": "text"
      },
      "source": [
        "<a href=\"https://colab.research.google.com/github/WJuniorF/Entregas_POO/blob/main/Taller_1.ipynb\" target=\"_parent\"><img src=\"https://colab.research.google.com/assets/colab-badge.svg\" alt=\"Open In Colab\"/></a>"
      ]
    },
    {
      "cell_type": "code",
      "execution_count": 15,
      "metadata": {
        "colab": {
          "base_uri": "https://localhost:8080/"
        },
        "id": "uCF4TmdLdAA1",
        "outputId": "f1b2b4f8-9982-4735-93f3-549f508e1af8"
      },
      "outputs": [
        {
          "output_type": "stream",
          "name": "stdout",
          "text": [
            "Ingrese su nombre:Walter\n",
            "Ingrese su edad:30\n",
            "Su nombre es Walter y tiene 30 años\n"
          ]
        }
      ],
      "source": [
        "#Taller_1_Repaso\n",
        "\n",
        "#1. Crear un programa que pida al usuario ingresar su nombre y edad y los imprima en pantalla.\n",
        "\n",
        "nombre=str(input(\"Ingrese su nombre:\" ))\n",
        "edad=int(input(\"Ingrese su edad:\" ))\n",
        "\n",
        "print(f'Su nombre es {nombre} y tiene {edad} años')"
      ]
    },
    {
      "cell_type": "code",
      "source": [
        "#2. Escribir una función que calcule el área de un círculo dado su radio.\n",
        "\n",
        "def a_circulo(r):\n",
        "  pi=3.1416\n",
        "  area=round(pi*r**2,2)\n",
        "\n",
        "  return  f\"El area del circulo es {area} unidades cuadradas\"\n",
        "\n",
        "a_circulo(4)"
      ],
      "metadata": {
        "colab": {
          "base_uri": "https://localhost:8080/",
          "height": 36
        },
        "id": "UddM8dzBdKin",
        "outputId": "bec48bab-2e5f-4c3a-ff10-642f7bc0d79c"
      },
      "execution_count": 16,
      "outputs": [
        {
          "output_type": "execute_result",
          "data": {
            "text/plain": [
              "'El area del circulo es 50.27 unidades cuadradas'"
            ],
            "application/vnd.google.colaboratory.intrinsic+json": {
              "type": "string"
            }
          },
          "metadata": {},
          "execution_count": 16
        }
      ]
    },
    {
      "cell_type": "code",
      "source": [
        "#3. Crear un programa que genere una lista de números aleatorios y los imprima en pantalla.\n",
        "import random\n",
        "\n",
        "a=random.randrange(0,100,1)\n",
        "print (f\"Este es un número aleatorio:\", a)\n",
        "\n"
      ],
      "metadata": {
        "colab": {
          "base_uri": "https://localhost:8080/"
        },
        "id": "yDH5yTBBeMYJ",
        "outputId": "3c720821-7ab5-45a6-8c1f-6478c2cfd55e"
      },
      "execution_count": 17,
      "outputs": [
        {
          "output_type": "stream",
          "name": "stdout",
          "text": [
            "Este es un número aleatorio: 60\n"
          ]
        }
      ]
    },
    {
      "cell_type": "code",
      "source": [
        "#4. Escribir un programa que determine si un número dado es par o impar.\n",
        "\n",
        "num=int(input(\"Ingrese un número: \" ))\n",
        "\n",
        "if num%2==0:\n",
        "  print(f\"El número {num} es par\")\n",
        "else:\n",
        "  print(f\"El número {num} es impar\")\n",
        "\n"
      ],
      "metadata": {
        "colab": {
          "base_uri": "https://localhost:8080/"
        },
        "id": "ln6xbszFgQUb",
        "outputId": "2002c858-239a-49f5-c582-39c89d910763"
      },
      "execution_count": 18,
      "outputs": [
        {
          "output_type": "stream",
          "name": "stdout",
          "text": [
            "Ingrese un número: 7\n",
            "El número 7 es impar\n"
          ]
        }
      ]
    },
    {
      "cell_type": "code",
      "source": [
        "#5. Crear una función que convierta grados Fahrenheit a grados Celsius.\n",
        "\n",
        "def convert_temp (f:float):\n",
        "  a=round((f-32)*5/9,1)\n",
        "  return (f\"{f} grados Fahrenheit equivalen a {a} grados Celsius\")\n",
        "\n"
      ],
      "metadata": {
        "id": "GjGjt73Vh3gW"
      },
      "execution_count": 19,
      "outputs": []
    },
    {
      "cell_type": "code",
      "source": [
        "convert_temp(45)"
      ],
      "metadata": {
        "colab": {
          "base_uri": "https://localhost:8080/",
          "height": 36
        },
        "id": "IZ5gD1wAipJB",
        "outputId": "a8581626-a7d0-451b-a087-e0d58820847d"
      },
      "execution_count": 20,
      "outputs": [
        {
          "output_type": "execute_result",
          "data": {
            "text/plain": [
              "'45 grados Fahrenheit equivalen a 7.2 grados Celsius'"
            ],
            "application/vnd.google.colaboratory.intrinsic+json": {
              "type": "string"
            }
          },
          "metadata": {},
          "execution_count": 20
        }
      ]
    },
    {
      "cell_type": "code",
      "source": [
        "#6. Crear un programa que calcule la suma de los números en una lista dada.\n",
        "\n",
        "lista=[1,2,3,4,5]\n",
        "\n",
        "acumulador=0\n",
        "\n",
        "for i in lista:\n",
        "  acumulador+=i\n",
        "\n",
        "print(acumulador)"
      ],
      "metadata": {
        "colab": {
          "base_uri": "https://localhost:8080/"
        },
        "id": "rY7V55YPjXQu",
        "outputId": "a4d980f4-4b5c-4601-eceb-91e45be59e06"
      },
      "execution_count": 21,
      "outputs": [
        {
          "output_type": "stream",
          "name": "stdout",
          "text": [
            "15\n"
          ]
        }
      ]
    },
    {
      "cell_type": "code",
      "source": [
        "#7. Escribir un programa que encuentre el número más grande y el más pequeño en una lista dada.\n",
        "\n",
        "print (f\"El numero más pequeño de la lista es {min(lista)} y el número mas grande es {max(lista)}\")"
      ],
      "metadata": {
        "colab": {
          "base_uri": "https://localhost:8080/"
        },
        "id": "XZcRY67fjXSb",
        "outputId": "a49ad514-0a5f-4771-d994-c594f0c071ae"
      },
      "execution_count": 22,
      "outputs": [
        {
          "output_type": "stream",
          "name": "stdout",
          "text": [
            "El numero más pequeño de la lista es 1 y el número mas grande es 5\n"
          ]
        }
      ]
    },
    {
      "cell_type": "code",
      "source": [
        "#8. Crear una función que invierta el orden de los elementos en una lista dada.\n",
        "def invertir(p:list):\n",
        "  a=[]\n",
        "  for i in reversed(p):\n",
        "    a+=[i]\n",
        "  print(f\"La lista invertida es {a}\")\n",
        "  return\n"
      ],
      "metadata": {
        "id": "oSKddzxmjXV0"
      },
      "execution_count": 23,
      "outputs": []
    },
    {
      "cell_type": "code",
      "source": [
        "invertir(lista)"
      ],
      "metadata": {
        "colab": {
          "base_uri": "https://localhost:8080/"
        },
        "id": "mxCMQ07ljXXK",
        "outputId": "5d390789-7e84-438d-c1ea-7386283301b3"
      },
      "execution_count": 24,
      "outputs": [
        {
          "output_type": "stream",
          "name": "stdout",
          "text": [
            "La lista invertida es [5, 4, 3, 2, 1]\n"
          ]
        }
      ]
    },
    {
      "cell_type": "code",
      "source": [
        "#9. Crear un programa que genere una matriz de números y la imprima en pantalla.\n",
        "\n",
        "import numpy as np\n"
      ],
      "metadata": {
        "id": "ZwIVCQQPjXat"
      },
      "execution_count": 25,
      "outputs": []
    },
    {
      "cell_type": "code",
      "source": [
        "rng = np.random.default_rng()\n",
        "b=rng.integers(10, size=(5,5))\n",
        "print(b)\n"
      ],
      "metadata": {
        "colab": {
          "base_uri": "https://localhost:8080/"
        },
        "id": "1Owv7OFhjXdn",
        "outputId": "d6d17a0b-9be3-403c-fe3d-5019bca5a2ba"
      },
      "execution_count": 26,
      "outputs": [
        {
          "output_type": "stream",
          "name": "stdout",
          "text": [
            "[[8 3 4 1 2]\n",
            " [3 6 9 7 4]\n",
            " [1 4 7 3 3]\n",
            " [9 1 2 1 0]\n",
            " [5 4 5 9 5]]\n"
          ]
        }
      ]
    },
    {
      "cell_type": "code",
      "source": [
        "#10. Escribir una función que calcule el factorial de un número dado.\n",
        "\n",
        "\n",
        "\n"
      ],
      "metadata": {
        "id": "9kpZn0P8sZ8Z"
      },
      "execution_count": 27,
      "outputs": []
    },
    {
      "cell_type": "code",
      "source": [
        "#11. Crear un programa que genere una lista de números pares entre 1 y 100.\n",
        "par_lista=[]\n",
        "\n",
        "for i in range(1,101):\n",
        "  if i%2==0:\n",
        "    par_lista+=[i]"
      ],
      "metadata": {
        "id": "ueDo17sqsZ-C"
      },
      "execution_count": 28,
      "outputs": []
    },
    {
      "cell_type": "code",
      "source": [
        "print(par_lista)"
      ],
      "metadata": {
        "colab": {
          "base_uri": "https://localhost:8080/"
        },
        "id": "0OKsKeTOsaBe",
        "outputId": "426e1647-8ae2-405e-8c3b-a89d90df9df9"
      },
      "execution_count": 29,
      "outputs": [
        {
          "output_type": "stream",
          "name": "stdout",
          "text": [
            "[2, 4, 6, 8, 10, 12, 14, 16, 18, 20, 22, 24, 26, 28, 30, 32, 34, 36, 38, 40, 42, 44, 46, 48, 50, 52, 54, 56, 58, 60, 62, 64, 66, 68, 70, 72, 74, 76, 78, 80, 82, 84, 86, 88, 90, 92, 94, 96, 98, 100]\n"
          ]
        }
      ]
    },
    {
      "cell_type": "code",
      "source": [
        "#12. Crear un programa que imprima los números del 1 al 10 utilizando un ciclo for.\n",
        "\n",
        "for i in range(1,11):\n",
        "  print(i)"
      ],
      "metadata": {
        "colab": {
          "base_uri": "https://localhost:8080/"
        },
        "id": "mo3uIjq_saEY",
        "outputId": "04de1e75-5fad-4631-fa9a-ac74879e47e1"
      },
      "execution_count": 30,
      "outputs": [
        {
          "output_type": "stream",
          "name": "stdout",
          "text": [
            "1\n",
            "2\n",
            "3\n",
            "4\n",
            "5\n",
            "6\n",
            "7\n",
            "8\n",
            "9\n",
            "10\n"
          ]
        }
      ]
    },
    {
      "cell_type": "code",
      "source": [
        "#13. Crear un programa que pida al usuario ingresar dos números y calcule su suma, resta, multiplicación y división.\n",
        "\n",
        "def operaciones ():\n",
        "  a=int(input(\"Ingresa un número:\" ))\n",
        "  b=int(input(\"Ingresa un número:\" ))\n",
        "\n",
        "  suma=a+b\n",
        "  resta=a-b\n",
        "  multi=a*b\n",
        "  div=round((a/b),2)\n",
        "  return print(f\"La suma de {a} y {b} es igual a {suma}\\nLa resta de {a} y {b} es igual a {resta}\\nLa multiplicación de {a} y {b} es igual a {multi}\\nLa división de {a} y {b} es igual a {div}\")\n"
      ],
      "metadata": {
        "id": "Zj_hG4Aa3TkX"
      },
      "execution_count": 31,
      "outputs": []
    },
    {
      "cell_type": "code",
      "source": [
        "operaciones()"
      ],
      "metadata": {
        "colab": {
          "base_uri": "https://localhost:8080/"
        },
        "id": "zkQ5lEU53TmE",
        "outputId": "f0096355-567c-4a12-a795-809ca5435e7b"
      },
      "execution_count": 32,
      "outputs": [
        {
          "output_type": "stream",
          "name": "stdout",
          "text": [
            "Ingresa un número:9\n",
            "Ingresa un número:6\n",
            "La suma de 9 y 6 es igual a 15\n",
            "La resta de 9 y 6 es igual a 3\n",
            "La multiplicación de 9 y 6 es igual a 54\n",
            "La división de 9 y 6 es igual a 1.5\n"
          ]
        }
      ]
    },
    {
      "cell_type": "code",
      "source": [
        "#14. Escribir una función que calcule la media aritmética de una lista de números.\n",
        "\n",
        "\n",
        "def media (a:list):\n",
        "  suma=0\n",
        "\n",
        "  for i in a:\n",
        "    suma+=i\n",
        "\n",
        "  media_a=round((suma/len(a)),2)\n",
        "  return f\"La media aritmética de la lista es {media_a}\""
      ],
      "metadata": {
        "id": "Czzu0cXM3TpT"
      },
      "execution_count": 33,
      "outputs": []
    },
    {
      "cell_type": "code",
      "source": [
        "\n",
        "lista_numeros=[5,4,3,2,4,5,7]\n",
        "\n",
        "media(lista_numeros)"
      ],
      "metadata": {
        "colab": {
          "base_uri": "https://localhost:8080/",
          "height": 36
        },
        "id": "0tg72ouV3TsJ",
        "outputId": "fc73d009-c498-44f8-bed4-bc5236db9802"
      },
      "execution_count": 34,
      "outputs": [
        {
          "output_type": "execute_result",
          "data": {
            "text/plain": [
              "'La media aritmética de la lista es 4.29'"
            ],
            "application/vnd.google.colaboratory.intrinsic+json": {
              "type": "string"
            }
          },
          "metadata": {},
          "execution_count": 34
        }
      ]
    },
    {
      "cell_type": "code",
      "source": [
        "\n",
        "#15. Crear un programa que pida al usuario ingresar una cadena de texto y determine si es un palíndromo o no.\n",
        "\n"
      ],
      "metadata": {
        "id": "UFb7RYCr7iB5"
      },
      "execution_count": 35,
      "outputs": []
    }
  ]
}