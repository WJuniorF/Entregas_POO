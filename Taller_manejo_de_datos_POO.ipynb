{
  "nbformat": 4,
  "nbformat_minor": 0,
  "metadata": {
    "colab": {
      "provenance": [],
      "authorship_tag": "ABX9TyM7cWrzbKZw5NdGedJM9eC2",
      "include_colab_link": true
    },
    "kernelspec": {
      "name": "python3",
      "display_name": "Python 3"
    },
    "language_info": {
      "name": "python"
    }
  },
  "cells": [
    {
      "cell_type": "markdown",
      "metadata": {
        "id": "view-in-github",
        "colab_type": "text"
      },
      "source": [
        "<a href=\"https://colab.research.google.com/github/WJuniorF/Entregas_POO/blob/main/Taller_manejo_de_datos_POO.ipynb\" target=\"_parent\"><img src=\"https://colab.research.google.com/assets/colab-badge.svg\" alt=\"Open In Colab\"/></a>"
      ]
    },
    {
      "cell_type": "code",
      "execution_count": 84,
      "metadata": {
        "id": "_zm_JJMLrt5O"
      },
      "outputs": [],
      "source": [
        "import pandas as pd\n",
        "d=open('datos.txt')"
      ]
    },
    {
      "cell_type": "code",
      "source": [
        "df=[]\n",
        "for i in d:\n",
        "  df+=[i]"
      ],
      "metadata": {
        "id": "ANREuY0BUpU-"
      },
      "execution_count": 85,
      "outputs": []
    },
    {
      "cell_type": "code",
      "source": [
        "df[0:20]"
      ],
      "metadata": {
        "colab": {
          "base_uri": "https://localhost:8080/"
        },
        "id": "7mMkZw_GWnUm",
        "outputId": "45fdf24a-7bb3-4c73-9333-90a78267dc7c"
      },
      "execution_count": 86,
      "outputs": [
        {
          "output_type": "execute_result",
          "data": {
            "text/plain": [
              "['Estacion: Aeropuerto Internacional\\n',\n",
              " 'Latitud: 19.4362\\n',\n",
              " 'Longitud: -99.0728\\n',\n",
              " 'Fecha: 04/05/2023\\n',\n",
              " 'Hora: 15:00\\n',\n",
              " 'Temperatura: 28.3\\n',\n",
              " 'Humedad: 56\\n',\n",
              " 'Presion: 1012.3\\n',\n",
              " 'Viento: 14.5,ESE\\n',\n",
              " '\\n',\n",
              " 'Estacion: Centro Historico\\n',\n",
              " 'Latitud: 19.4326\\n',\n",
              " 'Longitud: -99.1332\\n',\n",
              " 'Fecha: 04/05/2023\\n',\n",
              " 'Hora: 15:00\\n',\n",
              " 'Temperatura: 27.1\\n',\n",
              " 'Humedad: 60\\n',\n",
              " 'Presion: 1011.9\\n',\n",
              " 'Viento: 12.8,N\\n',\n",
              " '\\n']"
            ]
          },
          "metadata": {},
          "execution_count": 86
        }
      ]
    },
    {
      "cell_type": "code",
      "source": [
        "\"\"\"data=[]\n",
        "for i in df:\n",
        "  data+=i.strip().split(':')\"\"\""
      ],
      "metadata": {
        "colab": {
          "base_uri": "https://localhost:8080/",
          "height": 36
        },
        "id": "zX12e1RkS4F8",
        "outputId": "244aae16-7f9b-4d94-cc81-78ed07d4ae5b"
      },
      "execution_count": 87,
      "outputs": [
        {
          "output_type": "execute_result",
          "data": {
            "text/plain": [
              "\"data=[]\\nfor i in df:\\n  data+=i.strip().split(':')\""
            ],
            "application/vnd.google.colaboratory.intrinsic+json": {
              "type": "string"
            }
          },
          "metadata": {},
          "execution_count": 87
        }
      ]
    },
    {
      "cell_type": "code",
      "source": [
        "df"
      ],
      "metadata": {
        "colab": {
          "base_uri": "https://localhost:8080/"
        },
        "id": "V4mXhF3NapOI",
        "outputId": "f80a71f8-27b5-496b-844c-92734cf7e7bf"
      },
      "execution_count": 88,
      "outputs": [
        {
          "output_type": "execute_result",
          "data": {
            "text/plain": [
              "['Estacion: Aeropuerto Internacional\\n',\n",
              " 'Latitud: 19.4362\\n',\n",
              " 'Longitud: -99.0728\\n',\n",
              " 'Fecha: 04/05/2023\\n',\n",
              " 'Hora: 15:00\\n',\n",
              " 'Temperatura: 28.3\\n',\n",
              " 'Humedad: 56\\n',\n",
              " 'Presion: 1012.3\\n',\n",
              " 'Viento: 14.5,ESE\\n',\n",
              " '\\n',\n",
              " 'Estacion: Centro Historico\\n',\n",
              " 'Latitud: 19.4326\\n',\n",
              " 'Longitud: -99.1332\\n',\n",
              " 'Fecha: 04/05/2023\\n',\n",
              " 'Hora: 15:00\\n',\n",
              " 'Temperatura: 27.1\\n',\n",
              " 'Humedad: 60\\n',\n",
              " 'Presion: 1011.9\\n',\n",
              " 'Viento: 12.8,N\\n',\n",
              " '\\n',\n",
              " 'Estacion: Coyoacon\\n',\n",
              " 'Latitud: 19.3462\\n',\n",
              " 'Longitud: -99.1626\\n',\n",
              " 'Fecha: 04/05/2023\\n',\n",
              " 'Hora: 15:00\\n',\n",
              " 'Temperatura: 25.9\\n',\n",
              " 'Humedad: 62\\n',\n",
              " 'Presion: 1012.1\\n',\n",
              " 'Viento: 10.2,S\\n',\n",
              " '\\n',\n",
              " 'Estacion: Polanco\\n',\n",
              " 'Latitud: 19.4344\\n',\n",
              " 'Longitud: -99.1971\\n',\n",
              " 'Fecha: 04/05/2023\\n',\n",
              " 'Hora: 15:00\\n',\n",
              " 'Temperatura: 27.6\\n',\n",
              " 'Humedad: 58\\n',\n",
              " 'Presion: 1011.6\\n',\n",
              " 'Viento: 8.9,NE\\n',\n",
              " '\\n',\n",
              " 'Estacion: Xochimilco\\n',\n",
              " 'Latitud: 19.2560\\n',\n",
              " 'Longitud: -99.1037\\n',\n",
              " 'Fecha: 04/05/2023\\n',\n",
              " 'Hora: 15:00\\n',\n",
              " 'Temperatura: 24.8\\n',\n",
              " 'Humedad: 65\\n',\n",
              " 'Presion: 1012.4\\n',\n",
              " 'Viento: 11.1,W\\n',\n",
              " '\\n',\n",
              " 'Estacion: Santa Fe\\n',\n",
              " 'Latitud: 19.3615\\n',\n",
              " 'Longitud: -99.2736\\n',\n",
              " 'Fecha: 04/05/2023\\n',\n",
              " 'Hora: 15:00\\n',\n",
              " 'Temperatura: 25.6\\n',\n",
              " 'Humedad: 63\\n',\n",
              " 'Presion: 1012.6\\n',\n",
              " 'Viento: 7.6,NW\\n',\n",
              " '\\n',\n",
              " 'Estacion: Ciudad Universitaria\\n',\n",
              " 'Latitud: 19.3189\\n',\n",
              " 'Longitud: -99.1821\\n',\n",
              " 'Fecha: 04/05/2023\\n',\n",
              " 'Hora: 15:00\\n',\n",
              " 'Temperatura: 26.2\\n',\n",
              " 'Humedad: 61\\n',\n",
              " 'Presion: 1012.0\\n',\n",
              " 'Viento: 6.2,SW\\n',\n",
              " '\\n',\n",
              " 'Estacion: Reforma\\n',\n",
              " 'Latitud: 19.4300\\n',\n",
              " 'Longitud: -99.1550\\n',\n",
              " 'Fecha: 04/05/2023\\n',\n",
              " 'Hora: 15:00\\n',\n",
              " 'Temperatura: 27.8\\n',\n",
              " 'Humedad: 57\\n',\n",
              " 'Presion: 1012.2\\n',\n",
              " 'Viento: 9.8,E\\n',\n",
              " '\\n',\n",
              " 'Estacion: Tlalpan\\n',\n",
              " 'Latitud: 19.2894\\n',\n",
              " 'Longitud: -99.1669\\n',\n",
              " 'Fecha: 04/05/2023\\n',\n",
              " 'Hora: 15:00\\n',\n",
              " 'Temperatura: 24.6\\n',\n",
              " 'Humedad: 66\\n',\n",
              " 'Presion: 1012.5\\n',\n",
              " 'Viento: 12.1,SE\\n',\n",
              " '\\n',\n",
              " 'Estacion: Cuajimalpa\\n',\n",
              " 'Latitud: 19.360830\\n',\n",
              " 'Longitud: -99.296890\\n',\n",
              " 'Fecha: 04/05/2023\\n',\n",
              " 'Hora: 22:30\\n',\n",
              " 'Temperatura: 22.5\\n',\n",
              " 'Humedad: 64.8\\n',\n",
              " 'Presion: 1013.2\\n',\n",
              " 'Viento: 5.2,ENE']"
            ]
          },
          "metadata": {},
          "execution_count": 88
        }
      ]
    },
    {
      "cell_type": "code",
      "source": [
        "\"\"\"estaciones=[]  #datos clase ESTACIONES\n",
        "for i in range(0,len(df),10):\n",
        "  estaciones.append(df[i])\n",
        "\n",
        "latitud=[]  #datos clase LATITUD\n",
        "for i in range(1,len(df),10):\n",
        "  latitud.append(df[i])\n",
        "\n",
        "longitud=[]  #datos clase longitud\n",
        "for i in range(2,len(df),10):\n",
        "  longitud.append(df[i])\n",
        "\n",
        "  \"\"\""
      ],
      "metadata": {
        "colab": {
          "base_uri": "https://localhost:8080/",
          "height": 72
        },
        "id": "NKeuloQ9THy0",
        "outputId": "53ff582c-a859-41b4-f3f4-ba060f1bca74"
      },
      "execution_count": 89,
      "outputs": [
        {
          "output_type": "execute_result",
          "data": {
            "text/plain": [
              "'estaciones=[]  #datos clase ESTACIONES\\nfor i in range(0,len(df),10):\\n  estaciones.append(df[i])\\n\\nlatitud=[]  #datos clase LATITUD\\nfor i in range(1,len(df),10):\\n  latitud.append(df[i])\\n\\nlongitud=[]  #datos clase longitud\\nfor i in range(2,len(df),10):\\n  longitud.append(df[i])\\n\\n  '"
            ],
            "application/vnd.google.colaboratory.intrinsic+json": {
              "type": "string"
            }
          },
          "metadata": {},
          "execution_count": 89
        }
      ]
    },
    {
      "cell_type": "code",
      "source": [
        "estaciones=[]  #datos clase ESTACIONES\n",
        "latitud=[]  #datos clase LATITUD\n",
        "longitud=[]  #datos clase longitud\n",
        "fecha=[]\n",
        "hora=[]\n",
        "temperatura=[]\n",
        "humedad=[]\n",
        "presion=[]\n",
        "vel_v=[]\n",
        "vel_viento=[]\n",
        "\n",
        "for i in range(0,len(df),10):\n",
        "  estaciones.append(df[i].strip().split(':')[1])\n",
        "  latitud.append(df[i+1].strip().split(':')[1])\n",
        "  longitud.append(df[i+2].strip().split(':')[1])\n",
        "  fecha.append(df[i+3].strip().split(':')[1])\n",
        "  hora.append(df[i+4].strip().split(':')[1])\n",
        "  temperatura.append(df[i+5].strip().split(':')[1])\n",
        "  humedad.append(df[i+6].strip().split(':')[1])\n",
        "  presion.append(df[i+7].strip().split(':')[1])\n",
        "  vel_v.append(df[i+8].strip().split(':')[1])\n"
      ],
      "metadata": {
        "id": "IghI6n2LkIM2"
      },
      "execution_count": 90,
      "outputs": []
    },
    {
      "cell_type": "code",
      "source": [
        "vel_v"
      ],
      "metadata": {
        "colab": {
          "base_uri": "https://localhost:8080/"
        },
        "id": "gjn_mQKR7bUw",
        "outputId": "eaf3769d-f1dc-4a15-fb9c-2c6cc7389095"
      },
      "execution_count": 91,
      "outputs": [
        {
          "output_type": "execute_result",
          "data": {
            "text/plain": [
              "[' 14.5,ESE',\n",
              " ' 12.8,N',\n",
              " ' 10.2,S',\n",
              " ' 8.9,NE',\n",
              " ' 11.1,W',\n",
              " ' 7.6,NW',\n",
              " ' 6.2,SW',\n",
              " ' 9.8,E',\n",
              " ' 12.1,SE',\n",
              " ' 5.2,ENE']"
            ]
          },
          "metadata": {},
          "execution_count": 91
        }
      ]
    },
    {
      "cell_type": "code",
      "source": [
        "\n",
        "for i in range(0,len(vel_v),1):\n",
        "  vel_viento.append(vel_v[i].split(',')[0])\n"
      ],
      "metadata": {
        "id": "PDQOr2cow2jB"
      },
      "execution_count": 92,
      "outputs": []
    },
    {
      "cell_type": "code",
      "source": [
        "vel_viento"
      ],
      "metadata": {
        "colab": {
          "base_uri": "https://localhost:8080/"
        },
        "id": "AuDOJFTu2lWU",
        "outputId": "7ec61029-814d-4fc2-c479-e8943c9f968a"
      },
      "execution_count": 93,
      "outputs": [
        {
          "output_type": "execute_result",
          "data": {
            "text/plain": [
              "[' 14.5',\n",
              " ' 12.8',\n",
              " ' 10.2',\n",
              " ' 8.9',\n",
              " ' 11.1',\n",
              " ' 7.6',\n",
              " ' 6.2',\n",
              " ' 9.8',\n",
              " ' 12.1',\n",
              " ' 5.2']"
            ]
          },
          "metadata": {},
          "execution_count": 93
        }
      ]
    },
    {
      "cell_type": "markdown",
      "source": [
        "Hallar:\n",
        "* Temperatura promedio.\n",
        "* Humedad promedio.\n",
        "* Presión promedio.\n",
        "* Velocidad promedio del viento.\n",
        "* Dirección predominante del viento."
      ],
      "metadata": {
        "id": "XzX862bFpvYE"
      }
    },
    {
      "cell_type": "code",
      "source": [
        "dataf=pd.DataFrame({'Estación':estaciones,'Latitud':latitud,'Longitud':longitud,'Fecha':fecha,'Hora':hora,'Temperatura': temperatura, 'Humedad':humedad,'Presión':presion,'Velocidad viento':vel_viento})"
      ],
      "metadata": {
        "id": "ifNMm4MpdAgq"
      },
      "execution_count": 94,
      "outputs": []
    },
    {
      "cell_type": "code",
      "source": [
        "dataf"
      ],
      "metadata": {
        "colab": {
          "base_uri": "https://localhost:8080/",
          "height": 432
        },
        "id": "BfMW7HROuJAo",
        "outputId": "60b4fac3-35f1-4dcf-f4a5-d8fd8b9eafbd"
      },
      "execution_count": 95,
      "outputs": [
        {
          "output_type": "execute_result",
          "data": {
            "text/plain": [
              "                    Estación     Latitud     Longitud        Fecha Hora  \\\n",
              "0   Aeropuerto Internacional     19.4362     -99.0728   04/05/2023   15   \n",
              "1           Centro Historico     19.4326     -99.1332   04/05/2023   15   \n",
              "2                   Coyoacon     19.3462     -99.1626   04/05/2023   15   \n",
              "3                    Polanco     19.4344     -99.1971   04/05/2023   15   \n",
              "4                 Xochimilco     19.2560     -99.1037   04/05/2023   15   \n",
              "5                   Santa Fe     19.3615     -99.2736   04/05/2023   15   \n",
              "6       Ciudad Universitaria     19.3189     -99.1821   04/05/2023   15   \n",
              "7                    Reforma     19.4300     -99.1550   04/05/2023   15   \n",
              "8                    Tlalpan     19.2894     -99.1669   04/05/2023   15   \n",
              "9                 Cuajimalpa   19.360830   -99.296890   04/05/2023   22   \n",
              "\n",
              "  Temperatura Humedad  Presión Velocidad viento  \n",
              "0        28.3      56   1012.3             14.5  \n",
              "1        27.1      60   1011.9             12.8  \n",
              "2        25.9      62   1012.1             10.2  \n",
              "3        27.6      58   1011.6              8.9  \n",
              "4        24.8      65   1012.4             11.1  \n",
              "5        25.6      63   1012.6              7.6  \n",
              "6        26.2      61   1012.0              6.2  \n",
              "7        27.8      57   1012.2              9.8  \n",
              "8        24.6      66   1012.5             12.1  \n",
              "9        22.5    64.8   1013.2              5.2  "
            ],
            "text/html": [
              "\n",
              "  <div id=\"df-4ad0c9b5-0610-4889-a301-6a342fe6d6b6\" class=\"colab-df-container\">\n",
              "    <div>\n",
              "<style scoped>\n",
              "    .dataframe tbody tr th:only-of-type {\n",
              "        vertical-align: middle;\n",
              "    }\n",
              "\n",
              "    .dataframe tbody tr th {\n",
              "        vertical-align: top;\n",
              "    }\n",
              "\n",
              "    .dataframe thead th {\n",
              "        text-align: right;\n",
              "    }\n",
              "</style>\n",
              "<table border=\"1\" class=\"dataframe\">\n",
              "  <thead>\n",
              "    <tr style=\"text-align: right;\">\n",
              "      <th></th>\n",
              "      <th>Estación</th>\n",
              "      <th>Latitud</th>\n",
              "      <th>Longitud</th>\n",
              "      <th>Fecha</th>\n",
              "      <th>Hora</th>\n",
              "      <th>Temperatura</th>\n",
              "      <th>Humedad</th>\n",
              "      <th>Presión</th>\n",
              "      <th>Velocidad viento</th>\n",
              "    </tr>\n",
              "  </thead>\n",
              "  <tbody>\n",
              "    <tr>\n",
              "      <th>0</th>\n",
              "      <td>Aeropuerto Internacional</td>\n",
              "      <td>19.4362</td>\n",
              "      <td>-99.0728</td>\n",
              "      <td>04/05/2023</td>\n",
              "      <td>15</td>\n",
              "      <td>28.3</td>\n",
              "      <td>56</td>\n",
              "      <td>1012.3</td>\n",
              "      <td>14.5</td>\n",
              "    </tr>\n",
              "    <tr>\n",
              "      <th>1</th>\n",
              "      <td>Centro Historico</td>\n",
              "      <td>19.4326</td>\n",
              "      <td>-99.1332</td>\n",
              "      <td>04/05/2023</td>\n",
              "      <td>15</td>\n",
              "      <td>27.1</td>\n",
              "      <td>60</td>\n",
              "      <td>1011.9</td>\n",
              "      <td>12.8</td>\n",
              "    </tr>\n",
              "    <tr>\n",
              "      <th>2</th>\n",
              "      <td>Coyoacon</td>\n",
              "      <td>19.3462</td>\n",
              "      <td>-99.1626</td>\n",
              "      <td>04/05/2023</td>\n",
              "      <td>15</td>\n",
              "      <td>25.9</td>\n",
              "      <td>62</td>\n",
              "      <td>1012.1</td>\n",
              "      <td>10.2</td>\n",
              "    </tr>\n",
              "    <tr>\n",
              "      <th>3</th>\n",
              "      <td>Polanco</td>\n",
              "      <td>19.4344</td>\n",
              "      <td>-99.1971</td>\n",
              "      <td>04/05/2023</td>\n",
              "      <td>15</td>\n",
              "      <td>27.6</td>\n",
              "      <td>58</td>\n",
              "      <td>1011.6</td>\n",
              "      <td>8.9</td>\n",
              "    </tr>\n",
              "    <tr>\n",
              "      <th>4</th>\n",
              "      <td>Xochimilco</td>\n",
              "      <td>19.2560</td>\n",
              "      <td>-99.1037</td>\n",
              "      <td>04/05/2023</td>\n",
              "      <td>15</td>\n",
              "      <td>24.8</td>\n",
              "      <td>65</td>\n",
              "      <td>1012.4</td>\n",
              "      <td>11.1</td>\n",
              "    </tr>\n",
              "    <tr>\n",
              "      <th>5</th>\n",
              "      <td>Santa Fe</td>\n",
              "      <td>19.3615</td>\n",
              "      <td>-99.2736</td>\n",
              "      <td>04/05/2023</td>\n",
              "      <td>15</td>\n",
              "      <td>25.6</td>\n",
              "      <td>63</td>\n",
              "      <td>1012.6</td>\n",
              "      <td>7.6</td>\n",
              "    </tr>\n",
              "    <tr>\n",
              "      <th>6</th>\n",
              "      <td>Ciudad Universitaria</td>\n",
              "      <td>19.3189</td>\n",
              "      <td>-99.1821</td>\n",
              "      <td>04/05/2023</td>\n",
              "      <td>15</td>\n",
              "      <td>26.2</td>\n",
              "      <td>61</td>\n",
              "      <td>1012.0</td>\n",
              "      <td>6.2</td>\n",
              "    </tr>\n",
              "    <tr>\n",
              "      <th>7</th>\n",
              "      <td>Reforma</td>\n",
              "      <td>19.4300</td>\n",
              "      <td>-99.1550</td>\n",
              "      <td>04/05/2023</td>\n",
              "      <td>15</td>\n",
              "      <td>27.8</td>\n",
              "      <td>57</td>\n",
              "      <td>1012.2</td>\n",
              "      <td>9.8</td>\n",
              "    </tr>\n",
              "    <tr>\n",
              "      <th>8</th>\n",
              "      <td>Tlalpan</td>\n",
              "      <td>19.2894</td>\n",
              "      <td>-99.1669</td>\n",
              "      <td>04/05/2023</td>\n",
              "      <td>15</td>\n",
              "      <td>24.6</td>\n",
              "      <td>66</td>\n",
              "      <td>1012.5</td>\n",
              "      <td>12.1</td>\n",
              "    </tr>\n",
              "    <tr>\n",
              "      <th>9</th>\n",
              "      <td>Cuajimalpa</td>\n",
              "      <td>19.360830</td>\n",
              "      <td>-99.296890</td>\n",
              "      <td>04/05/2023</td>\n",
              "      <td>22</td>\n",
              "      <td>22.5</td>\n",
              "      <td>64.8</td>\n",
              "      <td>1013.2</td>\n",
              "      <td>5.2</td>\n",
              "    </tr>\n",
              "  </tbody>\n",
              "</table>\n",
              "</div>\n",
              "    <div class=\"colab-df-buttons\">\n",
              "\n",
              "  <div class=\"colab-df-container\">\n",
              "    <button class=\"colab-df-convert\" onclick=\"convertToInteractive('df-4ad0c9b5-0610-4889-a301-6a342fe6d6b6')\"\n",
              "            title=\"Convert this dataframe to an interactive table.\"\n",
              "            style=\"display:none;\">\n",
              "\n",
              "  <svg xmlns=\"http://www.w3.org/2000/svg\" height=\"24px\" viewBox=\"0 -960 960 960\">\n",
              "    <path d=\"M120-120v-720h720v720H120Zm60-500h600v-160H180v160Zm220 220h160v-160H400v160Zm0 220h160v-160H400v160ZM180-400h160v-160H180v160Zm440 0h160v-160H620v160ZM180-180h160v-160H180v160Zm440 0h160v-160H620v160Z\"/>\n",
              "  </svg>\n",
              "    </button>\n",
              "\n",
              "  <style>\n",
              "    .colab-df-container {\n",
              "      display:flex;\n",
              "      gap: 12px;\n",
              "    }\n",
              "\n",
              "    .colab-df-convert {\n",
              "      background-color: #E8F0FE;\n",
              "      border: none;\n",
              "      border-radius: 50%;\n",
              "      cursor: pointer;\n",
              "      display: none;\n",
              "      fill: #1967D2;\n",
              "      height: 32px;\n",
              "      padding: 0 0 0 0;\n",
              "      width: 32px;\n",
              "    }\n",
              "\n",
              "    .colab-df-convert:hover {\n",
              "      background-color: #E2EBFA;\n",
              "      box-shadow: 0px 1px 2px rgba(60, 64, 67, 0.3), 0px 1px 3px 1px rgba(60, 64, 67, 0.15);\n",
              "      fill: #174EA6;\n",
              "    }\n",
              "\n",
              "    .colab-df-buttons div {\n",
              "      margin-bottom: 4px;\n",
              "    }\n",
              "\n",
              "    [theme=dark] .colab-df-convert {\n",
              "      background-color: #3B4455;\n",
              "      fill: #D2E3FC;\n",
              "    }\n",
              "\n",
              "    [theme=dark] .colab-df-convert:hover {\n",
              "      background-color: #434B5C;\n",
              "      box-shadow: 0px 1px 3px 1px rgba(0, 0, 0, 0.15);\n",
              "      filter: drop-shadow(0px 1px 2px rgba(0, 0, 0, 0.3));\n",
              "      fill: #FFFFFF;\n",
              "    }\n",
              "  </style>\n",
              "\n",
              "    <script>\n",
              "      const buttonEl =\n",
              "        document.querySelector('#df-4ad0c9b5-0610-4889-a301-6a342fe6d6b6 button.colab-df-convert');\n",
              "      buttonEl.style.display =\n",
              "        google.colab.kernel.accessAllowed ? 'block' : 'none';\n",
              "\n",
              "      async function convertToInteractive(key) {\n",
              "        const element = document.querySelector('#df-4ad0c9b5-0610-4889-a301-6a342fe6d6b6');\n",
              "        const dataTable =\n",
              "          await google.colab.kernel.invokeFunction('convertToInteractive',\n",
              "                                                    [key], {});\n",
              "        if (!dataTable) return;\n",
              "\n",
              "        const docLinkHtml = 'Like what you see? Visit the ' +\n",
              "          '<a target=\"_blank\" href=https://colab.research.google.com/notebooks/data_table.ipynb>data table notebook</a>'\n",
              "          + ' to learn more about interactive tables.';\n",
              "        element.innerHTML = '';\n",
              "        dataTable['output_type'] = 'display_data';\n",
              "        await google.colab.output.renderOutput(dataTable, element);\n",
              "        const docLink = document.createElement('div');\n",
              "        docLink.innerHTML = docLinkHtml;\n",
              "        element.appendChild(docLink);\n",
              "      }\n",
              "    </script>\n",
              "  </div>\n",
              "\n",
              "\n",
              "<div id=\"df-076da923-1841-4a40-a191-7aeefd934bbc\">\n",
              "  <button class=\"colab-df-quickchart\" onclick=\"quickchart('df-076da923-1841-4a40-a191-7aeefd934bbc')\"\n",
              "            title=\"Suggest charts.\"\n",
              "            style=\"display:none;\">\n",
              "\n",
              "<svg xmlns=\"http://www.w3.org/2000/svg\" height=\"24px\"viewBox=\"0 0 24 24\"\n",
              "     width=\"24px\">\n",
              "    <g>\n",
              "        <path d=\"M19 3H5c-1.1 0-2 .9-2 2v14c0 1.1.9 2 2 2h14c1.1 0 2-.9 2-2V5c0-1.1-.9-2-2-2zM9 17H7v-7h2v7zm4 0h-2V7h2v10zm4 0h-2v-4h2v4z\"/>\n",
              "    </g>\n",
              "</svg>\n",
              "  </button>\n",
              "\n",
              "<style>\n",
              "  .colab-df-quickchart {\n",
              "      --bg-color: #E8F0FE;\n",
              "      --fill-color: #1967D2;\n",
              "      --hover-bg-color: #E2EBFA;\n",
              "      --hover-fill-color: #174EA6;\n",
              "      --disabled-fill-color: #AAA;\n",
              "      --disabled-bg-color: #DDD;\n",
              "  }\n",
              "\n",
              "  [theme=dark] .colab-df-quickchart {\n",
              "      --bg-color: #3B4455;\n",
              "      --fill-color: #D2E3FC;\n",
              "      --hover-bg-color: #434B5C;\n",
              "      --hover-fill-color: #FFFFFF;\n",
              "      --disabled-bg-color: #3B4455;\n",
              "      --disabled-fill-color: #666;\n",
              "  }\n",
              "\n",
              "  .colab-df-quickchart {\n",
              "    background-color: var(--bg-color);\n",
              "    border: none;\n",
              "    border-radius: 50%;\n",
              "    cursor: pointer;\n",
              "    display: none;\n",
              "    fill: var(--fill-color);\n",
              "    height: 32px;\n",
              "    padding: 0;\n",
              "    width: 32px;\n",
              "  }\n",
              "\n",
              "  .colab-df-quickchart:hover {\n",
              "    background-color: var(--hover-bg-color);\n",
              "    box-shadow: 0 1px 2px rgba(60, 64, 67, 0.3), 0 1px 3px 1px rgba(60, 64, 67, 0.15);\n",
              "    fill: var(--button-hover-fill-color);\n",
              "  }\n",
              "\n",
              "  .colab-df-quickchart-complete:disabled,\n",
              "  .colab-df-quickchart-complete:disabled:hover {\n",
              "    background-color: var(--disabled-bg-color);\n",
              "    fill: var(--disabled-fill-color);\n",
              "    box-shadow: none;\n",
              "  }\n",
              "\n",
              "  .colab-df-spinner {\n",
              "    border: 2px solid var(--fill-color);\n",
              "    border-color: transparent;\n",
              "    border-bottom-color: var(--fill-color);\n",
              "    animation:\n",
              "      spin 1s steps(1) infinite;\n",
              "  }\n",
              "\n",
              "  @keyframes spin {\n",
              "    0% {\n",
              "      border-color: transparent;\n",
              "      border-bottom-color: var(--fill-color);\n",
              "      border-left-color: var(--fill-color);\n",
              "    }\n",
              "    20% {\n",
              "      border-color: transparent;\n",
              "      border-left-color: var(--fill-color);\n",
              "      border-top-color: var(--fill-color);\n",
              "    }\n",
              "    30% {\n",
              "      border-color: transparent;\n",
              "      border-left-color: var(--fill-color);\n",
              "      border-top-color: var(--fill-color);\n",
              "      border-right-color: var(--fill-color);\n",
              "    }\n",
              "    40% {\n",
              "      border-color: transparent;\n",
              "      border-right-color: var(--fill-color);\n",
              "      border-top-color: var(--fill-color);\n",
              "    }\n",
              "    60% {\n",
              "      border-color: transparent;\n",
              "      border-right-color: var(--fill-color);\n",
              "    }\n",
              "    80% {\n",
              "      border-color: transparent;\n",
              "      border-right-color: var(--fill-color);\n",
              "      border-bottom-color: var(--fill-color);\n",
              "    }\n",
              "    90% {\n",
              "      border-color: transparent;\n",
              "      border-bottom-color: var(--fill-color);\n",
              "    }\n",
              "  }\n",
              "</style>\n",
              "\n",
              "  <script>\n",
              "    async function quickchart(key) {\n",
              "      const quickchartButtonEl =\n",
              "        document.querySelector('#' + key + ' button');\n",
              "      quickchartButtonEl.disabled = true;  // To prevent multiple clicks.\n",
              "      quickchartButtonEl.classList.add('colab-df-spinner');\n",
              "      try {\n",
              "        const charts = await google.colab.kernel.invokeFunction(\n",
              "            'suggestCharts', [key], {});\n",
              "      } catch (error) {\n",
              "        console.error('Error during call to suggestCharts:', error);\n",
              "      }\n",
              "      quickchartButtonEl.classList.remove('colab-df-spinner');\n",
              "      quickchartButtonEl.classList.add('colab-df-quickchart-complete');\n",
              "    }\n",
              "    (() => {\n",
              "      let quickchartButtonEl =\n",
              "        document.querySelector('#df-076da923-1841-4a40-a191-7aeefd934bbc button');\n",
              "      quickchartButtonEl.style.display =\n",
              "        google.colab.kernel.accessAllowed ? 'block' : 'none';\n",
              "    })();\n",
              "  </script>\n",
              "</div>\n",
              "    </div>\n",
              "  </div>\n"
            ]
          },
          "metadata": {},
          "execution_count": 95
        }
      ]
    },
    {
      "cell_type": "code",
      "source": [
        "# Los elementos de las listas son de tipo STR\n",
        "'''sum_temp=0\n",
        "for i in temperatura:\n",
        "  sum_temp+=float(i)\n",
        "prom_temp=sum_temp/len(temperatura)\n",
        "\n",
        "print ('La temperatura promedio registrada en las estaciones es de:' ,prom_temp)\n",
        "\n",
        "sum_hum=0\n",
        "for i in humedad:\n",
        "  sum_hum+=float(i)\n",
        "prom_hum=sum_hum/len(humedad)\n",
        "\n",
        "print ('La humedad promedio registrada en las estaciones es de:' ,round(prom_hum,2))\n",
        "''' # Patrón en el código nuevamente\n",
        "\n",
        "sum_temp=0\n",
        "sum_hum=0\n",
        "sum_pre=0\n",
        "sum_velocidad=0\n",
        "for i,j,k,l in zip(temperatura,humedad,presion,vel_viento):\n",
        "  sum_temp+=float(i)\n",
        "  sum_hum+=float(j)\n",
        "  sum_pre+=float(k)\n",
        "  sum_velocidad+=float(l)\n",
        "prom_temp=sum_temp/len(temperatura)\n",
        "prom_hum=sum_hum/len(temperatura)\n",
        "prom_pre=sum_pre/len(temperatura)\n",
        "prom_velo=sum_velocidad/len(temperatura)\n",
        "\n",
        "print ('La temperatura promedio registrada en las estaciones es de:' ,prom_temp, '\\n' ,\n",
        "       'La humedad promedio registrada en las estaciones es de:' ,round(prom_hum,2), '\\n' ,\n",
        "       'La presión promedio registrada en las estaciones es de:' ,prom_pre, '\\n' ,\n",
        "       'La velocidad del viento promedio registrada en las estaciones es de:' ,prom_velo,)"
      ],
      "metadata": {
        "colab": {
          "base_uri": "https://localhost:8080/"
        },
        "id": "8kqZ-JeYuKdj",
        "outputId": "e102e9d5-76e6-412f-c2e5-ed35a85c5cc6"
      },
      "execution_count": 96,
      "outputs": [
        {
          "output_type": "stream",
          "name": "stdout",
          "text": [
            "La temperatura promedio registrada en las estaciones es de: 26.04 \n",
            " La humedad promedio registrada en las estaciones es de: 61.28 \n",
            " La presión promedio registrada en las estaciones es de: 1012.28 \n",
            " La velocidad del viento promedio registrada en las estaciones es de: 9.84\n"
          ]
        }
      ]
    },
    {
      "cell_type": "code",
      "source": [
        "dir=[] # Dirección del viento\n",
        "for i in range(0,len(vel_v),1):\n",
        "  dir.append(vel_v[i].split(',')[1])"
      ],
      "metadata": {
        "id": "NOpA4UrR4fwS"
      },
      "execution_count": 97,
      "outputs": []
    },
    {
      "cell_type": "code",
      "source": [
        "dir"
      ],
      "metadata": {
        "colab": {
          "base_uri": "https://localhost:8080/"
        },
        "id": "5v_aPuM2-BR8",
        "outputId": "a18cecf2-da59-4121-f1d9-272ae55bff32"
      },
      "execution_count": 98,
      "outputs": [
        {
          "output_type": "execute_result",
          "data": {
            "text/plain": [
              "['ESE', 'N', 'S', 'NE', 'W', 'NW', 'SW', 'E', 'SE', 'ENE']"
            ]
          },
          "metadata": {},
          "execution_count": 98
        }
      ]
    },
    {
      "cell_type": "code",
      "source": [
        "N= 0\n",
        "NNE= 22.5\n",
        "NE= 45      #1    1 1 1\n",
        "ENE= 67.5\n",
        "E= 90 #------------------\n",
        "ESE= 112.5\n",
        "SE= 135     #4  1 1 1\n",
        "SSE= 157.5\n",
        "S= 180 #-------------\n",
        "SSW= 202.5\n",
        "SW= 225         #3 1 1\n",
        "WSW= 247.5\n",
        "W= 270 #---------------------\n",
        "WNW= 292.5\n",
        "NW= 315       #2 1 1\n",
        "NNW= 337.5"
      ],
      "metadata": {
        "id": "3TQqwH51-E0e"
      },
      "execution_count": 99,
      "outputs": []
    },
    {
      "cell_type": "code",
      "source": [
        "# Crearé intervalos númericos analogos a los cuadrantes del plano cartesiano.\n",
        "cuadrante_1=0\n",
        "cuadrante_2=0\n",
        "cuadrante_3=0\n",
        "cuadrante_4=0\n",
        "\n",
        "\n",
        "for i in dir:\n",
        "\n",
        "  if i in ['N','NNE','NE','ENE']:\n",
        "    cuadrante_1+=1\n",
        "  elif  i in ['ESE','SE','SSE','E']:\n",
        "    cuadrante_4+=1\n",
        "  elif i in ['SSW','SW','WSW','S']:\n",
        "    cuadrante_3+=1\n",
        "  elif i in ['WNW','NW','NNW','W']:\n",
        "    cuadrante_2+=1\n",
        "\n",
        "print(cuadrante_1,cuadrante_2,cuadrante_3, cuadrante_4)\n"
      ],
      "metadata": {
        "colab": {
          "base_uri": "https://localhost:8080/"
        },
        "id": "J3AwS-Au-bJt",
        "outputId": "fefab2bd-d782-4653-fb14-fd15a958cd3f"
      },
      "execution_count": 100,
      "outputs": [
        {
          "output_type": "stream",
          "name": "stdout",
          "text": [
            "3 2 2 3\n"
          ]
        }
      ]
    },
    {
      "cell_type": "code",
      "source": [
        "cuadrante_1"
      ],
      "metadata": {
        "colab": {
          "base_uri": "https://localhost:8080/"
        },
        "id": "Gfp4OQ3mzM0z",
        "outputId": "eee03706-96f0-48fa-991b-0938089ef6ee"
      },
      "execution_count": 101,
      "outputs": [
        {
          "output_type": "execute_result",
          "data": {
            "text/plain": [
              "3"
            ]
          },
          "metadata": {},
          "execution_count": 101
        }
      ]
    },
    {
      "cell_type": "code",
      "source": [
        "\n",
        "if cuadrante_1 >= cuadrante_2 and cuadrante_3 and cuadrante_4:\n",
        "  print('La predominancia está entre el NE')\n",
        "if  cuadrante_2 >= cuadrante_1 and cuadrante_3 and cuadrante_4:\n",
        "  print('La predominancia está entre el NOE')\n",
        "if  cuadrante_3 >= cuadrante_1 and cuadrante_2 and cuadrante_4:\n",
        "  print('La predominancia está entre el SOE')\n",
        "if  cuadrante_4 >= cuadrante_1 and cuadrante_2 and cuadrante_3:\n",
        "  print('La predominancia está entre el SE')"
      ],
      "metadata": {
        "colab": {
          "base_uri": "https://localhost:8080/"
        },
        "id": "ZTTtz1DV-cBL",
        "outputId": "839f5561-1e05-456c-bbdf-50d31be5c289"
      },
      "execution_count": 102,
      "outputs": [
        {
          "output_type": "stream",
          "name": "stdout",
          "text": [
            "La predominancia está entre el NE\n",
            "La predominancia está entre el SE\n"
          ]
        }
      ]
    },
    {
      "cell_type": "code",
      "source": [],
      "metadata": {
        "id": "sRD41mLbzpPc"
      },
      "execution_count": 102,
      "outputs": []
    }
  ]
}