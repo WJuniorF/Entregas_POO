{
  "nbformat": 4,
  "nbformat_minor": 0,
  "metadata": {
    "colab": {
      "provenance": [],
      "authorship_tag": "ABX9TyPvi3Vo6NQjCm3Y1TiZllV/",
      "include_colab_link": true
    },
    "kernelspec": {
      "name": "python3",
      "display_name": "Python 3"
    },
    "language_info": {
      "name": "python"
    }
  },
  "cells": [
    {
      "cell_type": "markdown",
      "metadata": {
        "id": "view-in-github",
        "colab_type": "text"
      },
      "source": [
        "<a href=\"https://colab.research.google.com/github/WJuniorF/Entregas_POO/blob/main/Propuesta_Antropo.ipynb\" target=\"_parent\"><img src=\"https://colab.research.google.com/assets/colab-badge.svg\" alt=\"Open In Colab\"/></a>"
      ]
    },
    {
      "cell_type": "markdown",
      "source": [
        "#Sitema de evaluación corporal Antropo\n",
        "1. Descripción del problema\n",
        "\n",
        "El sistema de evaluación corporal Antropo es un herramienta de valoración corporal (antropométrica) que registra de manera cronológica medidas corporales básicas (masa corporal, talla, perimetros corporal, pliegues cutáneos y diamétros) y posterior estimación de indices e indicadores relacionados con la salud, estética y rendimiento deportivo operado por profesionales de la salud (médicos, nutricionistas y profesionales del deporte) que ejercen la antropometría como medio para analizar la composición corporal.\n",
        "\n",
        "2. Análisis del problema\n",
        "\n",
        "Como unidad de analisis de los requisitos funcionales (RF) se pueden dividir en:\n",
        "\n",
        "* RF de almacenamiento de datos del paciente:\n",
        "\n",
        "En este requisito será fundamental ingresar los datos básicos del paciente (nombre, número de identificación, fecha de nacimiento, sexo, correo electrónico, profesión/oficio) para crear el registro/perfil. Seguido de las medidas básicas corporales:\n",
        "Masa corporal\n",
        "\n",
        "-Talla\n",
        "\n",
        "-Perimetros corpora\n",
        "\n",
        "-Pliegues cutáneos y diamétros\n",
        "\n",
        "* RF de cálculos/estimaciones y clasificaciones:\n",
        "\n",
        "En este requisito se estarán realizando todos los cálculos y estimaciones de los múltiples indicadores e indices corporales tales como:\n",
        "\n",
        "-Índices: índice de masa corporal (IMC), índice cintura/talla/, sumatoria de pliegues, perimetros corporales.\n",
        "\n",
        "-Cálculos/estimaciones: estimacines del porcentaje muscular corporal, porcentaje de grasa corporal (según 4 formulas), grasa segmental y músculo segmental y por último el samatotipo.\n",
        "\n",
        "\n",
        "* RF de creación de informe final:\n",
        "En este requisito se verán gráficas que faciliten la lectura de indices y estimaciones con respecto al tiempo arrojando por defecto las últimas 4 evaluaciones del paciente (opcional: histórico de evaluaciones). Por ultimo, resumen de los 4 indicadores de composición corporal.\n",
        "\n",
        "\n",
        "* RF búsqueda de pacientes y agregación:\n",
        "En este requisito se empleará un algoritmo de búsqueda por documento de identificación con la opción de modificación de datos y creación de un nuevo registro.\n",
        "\n",
        "\n",
        "#Modelo del mundo del problema\n",
        "\n",
        "\n",
        "3. Implementación del modelo del mundo\n",
        "Implemente las clases del modelo del mundo del problema. Implemente todas las clases. Para esta entrega debe priorizar al menos 3 requisitos funcionales e implementarlos completamente incluyendo en el documento la descomposición y asignación de responsabilidades. Aún no es necesario implementar interfaz gráfica; la funcionalidad puede ser por consola.\n",
        "\n",
        "4. Entrega del trabajo\n",
        "En esta primera entrega del proyecto deberá incluir:\n",
        "\n",
        "Documento que incluya todos los elementos del análisis del problema. Además de los aspectos del análisis, se evaluará la buena presentación y la ortografía del documento.\n",
        "Enlace al repositorio de github que contiene el código de la implementación.\n",
        "Nota: es importante que antes de la entrega del trabajo, haga una validación de la descripción y enunciado del problema con el profesor.\n"
      ],
      "metadata": {
        "id": "Wen1umvp9FAQ"
      }
    },
    {
      "cell_type": "code",
      "source": [],
      "metadata": {
        "id": "yg6lSzpV-GKe"
      },
      "execution_count": null,
      "outputs": []
    }
  ]
}